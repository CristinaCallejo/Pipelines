{
 "cells": [
  {
   "cell_type": "code",
   "execution_count": 1,
   "id": "antique-bulletin",
   "metadata": {},
   "outputs": [],
   "source": [
    "import pandas as pd\n",
    "import requests\n",
    "import json\n",
    "from bs4 import BeautifulSoup\n",
    "\n",
    "from pandas import json_normalize\n",
    "import os\n",
    "from dotenv import load_dotenv"
   ]
  },
  {
   "cell_type": "code",
   "execution_count": 2,
   "id": "linear-table",
   "metadata": {},
   "outputs": [
    {
     "data": {
      "text/plain": [
       "True"
      ]
     },
     "execution_count": 2,
     "metadata": {},
     "output_type": "execute_result"
    }
   ],
   "source": [
    "load_dotenv()"
   ]
  },
  {
   "cell_type": "code",
   "execution_count": null,
   "id": "alien-prison",
   "metadata": {},
   "outputs": [],
   "source": [
    "# Billboard: 2021-03-06\n",
    "# Spotify: 2021-03-05"
   ]
  },
  {
   "cell_type": "code",
   "execution_count": 3,
   "id": "greenhouse-imaging",
   "metadata": {},
   "outputs": [],
   "source": [
    "data_spotify = pd.read_csv(\"./data_inputs/regional_sp_2021_03_05.csv\")"
   ]
  },
  {
   "cell_type": "code",
   "execution_count": 4,
   "id": "fresh-shepherd",
   "metadata": {},
   "outputs": [],
   "source": [
    "datas_selected = data_spotify[:100]\n",
    "datas = datas_selected.copy()\n",
    "datas.drop([\"streams\",\"url\"],axis = 1,inplace=True)\n",
    "datas.reset_index(drop=True,inplace=True)\n",
    "datas.columns = [\"rank\",\"song\",\"artist\"]\n",
    "datas[\"song\"] = datas[\"song\"].str.lower()\n",
    "datas[\"artist\"] = datas[\"artist\"].str.lower()"
   ]
  },
  {
   "cell_type": "code",
   "execution_count": null,
   "id": "seven-eight",
   "metadata": {},
   "outputs": [],
   "source": [
    "# request structure =  \"https://api.musixmatch.com/ws/1.1/matcher.lyrics.get?format=jsonp&callback=callback&q_track=ingobernable&q_artist=c.%20tangana&apikey=\"+f\"{apikey}\""
   ]
  },
  {
   "cell_type": "code",
   "execution_count": 5,
   "id": "vocational-brunei",
   "metadata": {},
   "outputs": [],
   "source": [
    "apikey = os.getenv(\"tok\")"
   ]
  },
  {
   "cell_type": "code",
   "execution_count": null,
   "id": "swedish-intro",
   "metadata": {},
   "outputs": [],
   "source": [
    "song = lambda song: data.song.lower()"
   ]
  },
  {
   "cell_type": "code",
   "execution_count": null,
   "id": "improving-receiver",
   "metadata": {},
   "outputs": [],
   "source": [
    "song"
   ]
  },
  {
   "cell_type": "code",
   "execution_count": null,
   "id": "obvious-short",
   "metadata": {},
   "outputs": [],
   "source": [
    "datas.apply(song)"
   ]
  },
  {
   "cell_type": "code",
   "execution_count": null,
   "id": "metric-preserve",
   "metadata": {},
   "outputs": [],
   "source": []
  },
  {
   "cell_type": "code",
   "execution_count": null,
   "id": "static-costs",
   "metadata": {},
   "outputs": [],
   "source": []
  },
  {
   "cell_type": "code",
   "execution_count": null,
   "id": "constitutional-audio",
   "metadata": {},
   "outputs": [],
   "source": []
  }
 ],
 "metadata": {
  "kernelspec": {
   "display_name": "Python 3",
   "language": "python",
   "name": "python3"
  },
  "language_info": {
   "codemirror_mode": {
    "name": "ipython",
    "version": 3
   },
   "file_extension": ".py",
   "mimetype": "text/x-python",
   "name": "python",
   "nbconvert_exporter": "python",
   "pygments_lexer": "ipython3",
   "version": "3.8.5"
  },
  "toc": {
   "base_numbering": 1,
   "nav_menu": {},
   "number_sections": true,
   "sideBar": true,
   "skip_h1_title": false,
   "title_cell": "Table of Contents",
   "title_sidebar": "Contents",
   "toc_cell": false,
   "toc_position": {},
   "toc_section_display": true,
   "toc_window_display": false
  },
  "varInspector": {
   "cols": {
    "lenName": 16,
    "lenType": 16,
    "lenVar": 40
   },
   "kernels_config": {
    "python": {
     "delete_cmd_postfix": "",
     "delete_cmd_prefix": "del ",
     "library": "var_list.py",
     "varRefreshCmd": "print(var_dic_list())"
    },
    "r": {
     "delete_cmd_postfix": ") ",
     "delete_cmd_prefix": "rm(",
     "library": "var_list.r",
     "varRefreshCmd": "cat(var_dic_list()) "
    }
   },
   "types_to_exclude": [
    "module",
    "function",
    "builtin_function_or_method",
    "instance",
    "_Feature"
   ],
   "window_display": false
  }
 },
 "nbformat": 4,
 "nbformat_minor": 5
}
