{
 "cells": [
  {
   "cell_type": "code",
   "execution_count": 1,
   "id": "undefined-referral",
   "metadata": {},
   "outputs": [],
   "source": [
    "# request structure =  \"https://api.musixmatch.com/ws/1.1/matcher.lyrics.get?format=jsonp&callback=callback&q_track=ingobernable&q_artist=c.%20tangana&apikey=\"+f\"{apikey}\""
   ]
  },
  {
   "cell_type": "code",
   "execution_count": 1,
   "id": "designed-maker",
   "metadata": {},
   "outputs": [
    {
     "data": {
      "text/plain": [
       "True"
      ]
     },
     "execution_count": 1,
     "metadata": {},
     "output_type": "execute_result"
    }
   ],
   "source": [
    "import numpy as np\n",
    "import pandas as pd\n",
    "import requests\n",
    "import json\n",
    "import os\n",
    "import sys \n",
    "import src.code2_requests_and_data_preparation as f2\n",
    "\n",
    "from pandas import json_normalize\n",
    "from dotenv import load_dotenv\n",
    "#from bs4 import BeautifulSoup\n",
    "\n",
    "load_dotenv()"
   ]
  },
  {
   "cell_type": "code",
   "execution_count": null,
   "id": "tough-minute",
   "metadata": {},
   "outputs": [],
   "source": []
  },
  {
   "cell_type": "markdown",
   "id": "simple-disclosure",
   "metadata": {},
   "source": [
    "## Functions for Usage"
   ]
  },
  {
   "cell_type": "markdown",
   "id": "attended-galaxy",
   "metadata": {},
   "source": [
    "### Importing & Preparing Processed Dataframe"
   ]
  },
  {
   "cell_type": "code",
   "execution_count": 2,
   "id": "tribal-strand",
   "metadata": {
    "scrolled": false
   },
   "outputs": [],
   "source": [
    "dir_incoming= \"./data_processed/\"\n",
    "st = \"v1regional_sp_2021_03_05.csv\"\n",
    "st2 = \"v1charts.csv\"\n",
    "\n",
    "#dfspot = import_csv(dir_,st1)\n",
    "#dfsp = dfspot[:5]\n",
    "#dfs = dfsp[[\"song\", \"artist\"]]\n",
    "\n",
    "def import_csv(dir_incoming,st):\n",
    "    print(\"Initializing process for: \", st, \"from: \", dir_incoming)\n",
    "    dataframe = pd.read_csv(dir_incoming + st)\n",
    "    dataframe_slice = dataframe[:5]\n",
    "    dataf = dataframe_slice.copy()\n",
    "    #dataf.drop (dropping_lst, axis = 1, inplace = True)\n",
    "    print(\"Step 1 of 1: import, SUCCESSFULL\")\n",
    "    print(\"Ended process: imported \",st)\n",
    "    return dataf"
   ]
  },
  {
   "cell_type": "code",
   "execution_count": 3,
   "id": "lightweight-given",
   "metadata": {},
   "outputs": [
    {
     "name": "stdout",
     "output_type": "stream",
     "text": [
      "Initializing process for:  v2regional_sp_2021_03_05.csv from:  ./data_processed/\n",
      "Step 1 of 1: import, SUCCESSFULL\n",
      "Ended process: imported  v2regional_sp_2021_03_05.csv\n"
     ]
    }
   ],
   "source": []
  },
  {
   "cell_type": "code",
   "execution_count": 4,
   "id": "brilliant-listening",
   "metadata": {
    "scrolled": true
   },
   "outputs": [
    {
     "name": "stdout",
     "output_type": "stream",
     "text": [
      "Initializing process for:  v2charts.csv from:  ./data_processed/\n",
      "Step 1 of 1: import, SUCCESSFULL\n",
      "Ended process: imported  v2charts.csv\n"
     ]
    }
   ],
   "source": []
  },
  {
   "cell_type": "code",
   "execution_count": null,
   "id": "pharmaceutical-klein",
   "metadata": {},
   "outputs": [],
   "source": []
  },
  {
   "cell_type": "markdown",
   "id": "quality-comfort",
   "metadata": {},
   "source": [
    "### Api Requests with Token"
   ]
  },
  {
   "cell_type": "code",
   "execution_count": null,
   "id": "oriental-antarctica",
   "metadata": {},
   "outputs": [],
   "source": []
  },
  {
   "cell_type": "code",
   "execution_count": 5,
   "id": "sealed-regression",
   "metadata": {},
   "outputs": [],
   "source": [
    "apikey = os.getenv(\"tok\")\n",
    "\n",
    "def creating_urls(dataf):\n",
    "    apikey = os.getenv(\"tok\")\n",
    "    songs = [song for song in list(dataf.song.values)]\n",
    "    artists = [artist for artist in list(dataf.artist.values)]\n",
    "    hits_lst = list(map(lambda x, y: [x, y], songs, artists))\n",
    "    #title = [(f\"{song}\".upper(), f\"{artist}\".upper()) for i, (song,artist) in enumerate(hits_lst)]\n",
    "    url = [f\"https://api.musixmatch.com/ws/1.1/matcher.lyrics.get?format=json&callback=callback&q_track={song}&q_artist={artist}&apikey={apikey}\" for i,(song,artist) in enumerate(hits_lst)] #format(song = song, artist = artist, apikey = apikey)]\n",
    "\n",
    "    no_1 = url[0]\n",
    "    no_2 = url[1]\n",
    "    no_3 = url[2]\n",
    "    no_4 = url[3]\n",
    "    no_5 = url[4] \n",
    "    \n",
    "    titles_lst = [f\"{song},{artist}\" for i,(song,artist) in enumerate(hits_lst)]\n",
    "\n",
    "    give_it_to_me = [no_1,no_2,no_3,no_4,no_5]\n",
    "   \n",
    "    lst_lyrics = []\n",
    "    for each in give_it_to_me:\n",
    "        response = requests.get(each)\n",
    "        res = response.json()\n",
    "        lyrics = res[\"message\"][\"body\"][\"lyrics\"][\"lyrics_body\"]\n",
    "        title_lst = [f\"{song},{artist}\" for i,(song,artist) in enumerate(hits_lst)]\n",
    "        lst_lyrics.append(lyrics)\n",
    "        print(lyrics)\n",
    "    return lst_lyrics\n",
    "\n",
    "#creating_urls(dataf)"
   ]
  },
  {
   "cell_type": "code",
   "execution_count": null,
   "id": "miniature-blame",
   "metadata": {},
   "outputs": [],
   "source": []
  },
  {
   "cell_type": "code",
   "execution_count": 6,
   "id": "different-middle",
   "metadata": {},
   "outputs": [
    {
     "name": "stdout",
     "output_type": "stream",
     "text": [
      "Sitting here wasted and wounded\n",
      "At this old piano\n",
      "Trying hard to capture\n",
      "The moment this morning I don't know\n",
      "\n",
      "'Cause a bottle of Vodka's still lodged in my head\n",
      "And some blonde gave me nightmares\n",
      "Think that she's still in my bed\n",
      "As I dream about movies\n",
      "They won't make of me when I'm dead\n",
      "\n",
      "With an ironclad fist\n",
      "I wake up and french kiss the morning\n",
      "While some marching band keeps its own beat in my head\n",
      "While we're talking\n",
      "\n",
      "About all of the things that I long to believe\n",
      "About love, the truth, what you mean to me\n",
      "And the truth is\n",
      "Baby you're all that I need\n",
      "\n",
      "I want to lay you down in a bed of roses\n",
      "For tonight I'll sleep on a bed of nails\n",
      "...\n",
      "\n",
      "******* This Lyrics is NOT for Commercial use *******\n",
      "(1409621314138)\n",
      "¡Eh!\n",
      "¡Vamo'!\n",
      "¡Pucho!\n",
      "¡Vamo'!\n",
      "¡Eso e'!\n",
      "¡Eso e'!\n",
      "¡Wuh!\n",
      "\n",
      "No me vale con mis buenas intencione' (que no, que no)\n",
      "No me vale con mis buenas accione' (no me vale)\n",
      "A ella no le vale con que le escriba cancione' (ah, ah, ah, ah)\n",
      "Ingobernable, el amor de mis amores\n",
      "¡Qué no me vale!\n",
      "\n",
      "Ni una escalera para poder alcanzarte (¡Pucho!)\n",
      "Ni una pistola para poder gobernarte (¡vamo'!)\n",
      "Ni una escalera para poder alcanzarte (que no)\n",
      "Ni una pistola para podеr gobernarte (esa no)\n",
      "\n",
      "No le valе con partirme el pecho y gritar:\n",
      "\"Te quiero\" cada vez que pasa (¡Pucho!, eso e')\n",
      "Que sé que tú no tienes precio (¡vamo'!)\n",
      "...\n",
      "\n",
      "******* This Lyrics is NOT for Commercial use *******\n",
      "(1409621314138)\n",
      "Mejor dame otra calada\n",
      "O párteme la cara\n",
      "O miénteme y dime que me quieres\n",
      "Que todo está bien, que no ha cambiado nada\n",
      "\n",
      "Duermo con el cadenón bien puesto\n",
      "Porque pienso en las noches que soñé su peso\n",
      "Y porque el resto de cosas que importan se fueron contigo\n",
      "\n",
      "Me he cansa'o del primer puesto\n",
      "Ya no quiero ser mejor que еl resto\n",
      "Porque todas las cosas que importan sе fueron contigo (Ay)\n",
      "\n",
      "...\n",
      "\n",
      "******* This Lyrics is NOT for Commercial use *******\n",
      "(1409621314138)\n",
      "Ella e' buena, pero le gustan lo' malo'\n",
      "Si te soy sincero, yo por ella jalo\n",
      "Me tiró diciéndome que la dejaron\n",
      "Es otra más que con su corazón jugaron, ey\n",
      "\n",
      "¿Ese bandido qué le hizo? dígame por qué llora\n",
      "Confiéseme pa' darle piso y enterrarlo ahora\n",
      "Que yo la puedo defender a usted si me colabora\n",
      "Le voy a dejar saber a ese man que ya no está sola (wuh)\n",
      "\n",
      "¿Ese bandido qué le hizo? dígame por qué llora (dígame por qué llora)\n",
      "Confiéseme pa' darle piso y enterrarlo ahora\n",
      "Que yo la puedo defender a usted si me colabora\n",
      "Le voy a dejar saber a ese man que ya no está sola (wuh)\n",
      "\n",
      "Mi amor, avísame si acaso te incomoda\n",
      "Pa' reventarlo y que sepa que no estás sola\n",
      "Yo te hablo claro, yo no brego con pistola'\n",
      "Pero tengo el respeto de lo' que controlan\n",
      "\n",
      "Tú ere' hermosa, mami, dime por qué llora'\n",
      "Te haría mi señora\n",
      "Ella le da lo mismo en un crucero que una yola\n",
      "Condone' de colore', la parto a lo crayola\n",
      "Mujere' como tú uno las desea y las añora (añora)\n",
      "\n",
      "Dile que tú tiene' vaqueo\n",
      "Si pone' el booty en reversa\n",
      "Yo le prendo la cámara como cuando parqueo\n",
      "...\n",
      "\n",
      "******* This Lyrics is NOT for Commercial use *******\n",
      "(1409621314138)\n",
      "Tú me dejaste de querer cuando te necesitaba\n",
      "Cuando más falta hacía\n",
      "Tú me diste la espalda (vaya)\n",
      "\n",
      "Tú me dejaste de querer cuando menos lo esperaba\n",
      "Cuando más te quería\n",
      "Se te fueron las ganas (toma que toma)\n",
      "\n",
      "Dale, aire\n",
      "Toma que toma (vaya, vaya)\n",
      "Hala, ajá\n",
      "Oye, El Madrileño (anda, ah)\n",
      "\n",
      "Quieto, quieto, quieto (hey)\n",
      "Ese Pucho (hala)\n",
      "Venga ya, dale\n",
      "Chipu, chipu\n",
      "\n",
      "Yo me creía que era el más cabrón\n",
      "Pero me estoy notando el corazón (dale, dale)\n",
      "Estás apretando mucho, mami, déjalo (eso e')\n",
      "Si quieres te doy la razón (hala)\n",
      "...\n",
      "\n",
      "******* This Lyrics is NOT for Commercial use *******\n",
      "(1409621314138)\n"
     ]
    }
   ],
   "source": [
    "lyrics_spotify = creating_urls(data_spotify)"
   ]
  },
  {
   "cell_type": "code",
   "execution_count": 7,
   "id": "prospective-deadline",
   "metadata": {},
   "outputs": [
    {
     "name": "stdout",
     "output_type": "stream",
     "text": [
      "I used to play around with hearts\n",
      "That hastened at my call\n",
      "But when I met that little girl\n",
      "I knew that I would fall\n",
      "\n",
      "Poor little fool, oh yeah\n",
      "I was a fool, uh huh\n",
      "(Oh oh, poor little fool)\n",
      "(I was a fool, oh yeah)\n",
      "\n",
      "She played around and teased me\n",
      "With her carefree devil eyes\n",
      "She'd hold me close and kiss me\n",
      "But her heart was full of lies\n",
      "\n",
      "Poor little fool, oh yeah\n",
      "I was a fool, uh huh\n",
      "(Oh oh, poor little fool)\n",
      "...\n",
      "\n",
      "******* This Lyrics is NOT for Commercial use *******\n",
      "(1409621314138)\n",
      "\n",
      "Splish splash, I was taking a bath\n",
      "Long about a Saturday night, yeah\n",
      "Rub dub, just relaxin' in the tub\n",
      "Thinkin' everything was alright\n",
      "\n",
      "Well, I stepped out the tub, put my feet on the floor\n",
      "I wrapped the towel around me, and I opened the door\n",
      "And then a splish, splash, I jumped back in the bath\n",
      "Well how was I to know there was a party going on\n",
      "\n",
      "They was a-splishin' and a-splashin', reelin' with the feelin'\n",
      "Movin' and a-groovin', rockin' and a-rollin', yeah\n",
      "...\n",
      "\n",
      "******* This Lyrics is NOT for Commercial use *******\n",
      "(1409621314138)\n",
      "Well a hard headed woman\n",
      "A soft hearted man\n",
      "Been the cause of trouble\n",
      "Ever since the world began\n",
      "\n",
      "Oh yeah, ever since the world began\n",
      "A hard headed woman been\n",
      "A thorn in the side of man\n",
      "\n",
      "Adam told to Eve\n",
      "Listen here to me\n",
      "Don't you let me catch you\n",
      "Messin' round that apple tree\n",
      "\n",
      "Oh yeah, ever since the world began\n",
      "A hard headed woman been\n",
      "A thorn in the side of man\n",
      "...\n",
      "\n",
      "******* This Lyrics is NOT for Commercial use *******\n",
      "(1409621314138)\n",
      "When, when you smile, when you smile at me\n",
      "Well, well, I know our love will always be\n",
      "When, when you kiss, when you kiss me right\n",
      "I, I don't want to ever say good night\n",
      "\n",
      "I need you\n",
      "I want you near me\n",
      "I love you, yes, I do\n",
      "And I hope you hear me\n",
      "\n",
      "When, when I say, when I say, \"Be mine\"\n",
      "...\n",
      "\n",
      "******* This Lyrics is NOT for Commercial use *******\n",
      "(1409621314138)\n"
     ]
    }
   ],
   "source": [
    "lyrics_billboard = creating_urls(data_billboard)"
   ]
  },
  {
   "cell_type": "code",
   "execution_count": null,
   "id": "initial-highway",
   "metadata": {},
   "outputs": [],
   "source": []
  },
  {
   "cell_type": "code",
   "execution_count": null,
   "id": "mental-pizza",
   "metadata": {},
   "outputs": [],
   "source": []
  },
  {
   "cell_type": "markdown",
   "id": "considerable-plastic",
   "metadata": {},
   "source": [
    "### Creating Dataframes "
   ]
  },
  {
   "cell_type": "code",
   "execution_count": 8,
   "id": "invalid-representation",
   "metadata": {},
   "outputs": [],
   "source": [
    "df_spotify = pd.DataFrame(data_spotify)\n",
    "df_spotify[\"lyrics\"] = [val for val in lyrics_spotify]"
   ]
  },
  {
   "cell_type": "code",
   "execution_count": 9,
   "id": "contemporary-istanbul",
   "metadata": {},
   "outputs": [],
   "source": [
    "df_billboard = pd.DataFrame(data_billboard)\n",
    "df_billboard[\"lyrics\"] = [val for val in lyrics_billboard]"
   ]
  },
  {
   "cell_type": "code",
   "execution_count": 10,
   "id": "exterior-graduation",
   "metadata": {},
   "outputs": [
    {
     "data": {
      "text/html": [
       "<div>\n",
       "<style scoped>\n",
       "    .dataframe tbody tr th:only-of-type {\n",
       "        vertical-align: middle;\n",
       "    }\n",
       "\n",
       "    .dataframe tbody tr th {\n",
       "        vertical-align: top;\n",
       "    }\n",
       "\n",
       "    .dataframe thead th {\n",
       "        text-align: right;\n",
       "    }\n",
       "</style>\n",
       "<table border=\"1\" class=\"dataframe\">\n",
       "  <thead>\n",
       "    <tr style=\"text-align: right;\">\n",
       "      <th></th>\n",
       "      <th>song</th>\n",
       "      <th>artist</th>\n",
       "      <th>lyrics</th>\n",
       "    </tr>\n",
       "  </thead>\n",
       "  <tbody>\n",
       "    <tr>\n",
       "      <th>0</th>\n",
       "      <td>ella no es tuya - remix</td>\n",
       "      <td>rochy rd</td>\n",
       "      <td>Sitting here wasted and wounded\\nAt this old p...</td>\n",
       "    </tr>\n",
       "    <tr>\n",
       "      <th>1</th>\n",
       "      <td>ingobernable</td>\n",
       "      <td>c. tangana</td>\n",
       "      <td>¡Eh!\\n¡Vamo'!\\n¡Pucho!\\n¡Vamo'!\\n¡Eso e'!\\n¡Es...</td>\n",
       "    </tr>\n",
       "    <tr>\n",
       "      <th>2</th>\n",
       "      <td>párteme la cara</td>\n",
       "      <td>c. tangana</td>\n",
       "      <td>Mejor dame otra calada\\nO párteme la cara\\nO m...</td>\n",
       "    </tr>\n",
       "    <tr>\n",
       "      <th>3</th>\n",
       "      <td>bandido</td>\n",
       "      <td>myke towers</td>\n",
       "      <td>Ella e' buena, pero le gustan lo' malo'\\nSi te...</td>\n",
       "    </tr>\n",
       "    <tr>\n",
       "      <th>4</th>\n",
       "      <td>tú me dejaste de querer</td>\n",
       "      <td>c. tangana</td>\n",
       "      <td>Tú me dejaste de querer cuando te necesitaba\\n...</td>\n",
       "    </tr>\n",
       "  </tbody>\n",
       "</table>\n",
       "</div>"
      ],
      "text/plain": [
       "                      song       artist  \\\n",
       "0  ella no es tuya - remix     rochy rd   \n",
       "1             ingobernable   c. tangana   \n",
       "2          párteme la cara   c. tangana   \n",
       "3                  bandido  myke towers   \n",
       "4  tú me dejaste de querer   c. tangana   \n",
       "\n",
       "                                              lyrics  \n",
       "0  Sitting here wasted and wounded\\nAt this old p...  \n",
       "1  ¡Eh!\\n¡Vamo'!\\n¡Pucho!\\n¡Vamo'!\\n¡Eso e'!\\n¡Es...  \n",
       "2  Mejor dame otra calada\\nO párteme la cara\\nO m...  \n",
       "3  Ella e' buena, pero le gustan lo' malo'\\nSi te...  \n",
       "4  Tú me dejaste de querer cuando te necesitaba\\n...  "
      ]
     },
     "execution_count": 10,
     "metadata": {},
     "output_type": "execute_result"
    }
   ],
   "source": [
    "df_spotify"
   ]
  },
  {
   "cell_type": "code",
   "execution_count": 11,
   "id": "running-dividend",
   "metadata": {},
   "outputs": [
    {
     "data": {
      "text/html": [
       "<div>\n",
       "<style scoped>\n",
       "    .dataframe tbody tr th:only-of-type {\n",
       "        vertical-align: middle;\n",
       "    }\n",
       "\n",
       "    .dataframe tbody tr th {\n",
       "        vertical-align: top;\n",
       "    }\n",
       "\n",
       "    .dataframe thead th {\n",
       "        text-align: right;\n",
       "    }\n",
       "</style>\n",
       "<table border=\"1\" class=\"dataframe\">\n",
       "  <thead>\n",
       "    <tr style=\"text-align: right;\">\n",
       "      <th></th>\n",
       "      <th>song</th>\n",
       "      <th>artist</th>\n",
       "      <th>lyrics</th>\n",
       "    </tr>\n",
       "  </thead>\n",
       "  <tbody>\n",
       "    <tr>\n",
       "      <th>0</th>\n",
       "      <td>poor little fool</td>\n",
       "      <td>ricky nelson</td>\n",
       "      <td>I used to play around with hearts\\nThat hasten...</td>\n",
       "    </tr>\n",
       "    <tr>\n",
       "      <th>1</th>\n",
       "      <td>patricia</td>\n",
       "      <td>perez prado and his orchestra</td>\n",
       "      <td></td>\n",
       "    </tr>\n",
       "    <tr>\n",
       "      <th>2</th>\n",
       "      <td>splish splash</td>\n",
       "      <td>bobby darin</td>\n",
       "      <td>Splish splash, I was taking a bath\\nLong about...</td>\n",
       "    </tr>\n",
       "    <tr>\n",
       "      <th>3</th>\n",
       "      <td>hard headed woman</td>\n",
       "      <td>elvis presley with the jordanaires</td>\n",
       "      <td>Well a hard headed woman\\nA soft hearted man\\n...</td>\n",
       "    </tr>\n",
       "    <tr>\n",
       "      <th>4</th>\n",
       "      <td>when</td>\n",
       "      <td>kalin twins</td>\n",
       "      <td>When, when you smile, when you smile at me\\nWe...</td>\n",
       "    </tr>\n",
       "  </tbody>\n",
       "</table>\n",
       "</div>"
      ],
      "text/plain": [
       "                song                              artist  \\\n",
       "0   poor little fool                        ricky nelson   \n",
       "1           patricia       perez prado and his orchestra   \n",
       "2      splish splash                         bobby darin   \n",
       "3  hard headed woman  elvis presley with the jordanaires   \n",
       "4               when                         kalin twins   \n",
       "\n",
       "                                              lyrics  \n",
       "0  I used to play around with hearts\\nThat hasten...  \n",
       "1                                                     \n",
       "2  Splish splash, I was taking a bath\\nLong about...  \n",
       "3  Well a hard headed woman\\nA soft hearted man\\n...  \n",
       "4  When, when you smile, when you smile at me\\nWe...  "
      ]
     },
     "execution_count": 11,
     "metadata": {},
     "output_type": "execute_result"
    }
   ],
   "source": [
    "df_billboard"
   ]
  },
  {
   "cell_type": "code",
   "execution_count": null,
   "id": "overhead-mentor",
   "metadata": {},
   "outputs": [],
   "source": []
  },
  {
   "cell_type": "code",
   "execution_count": null,
   "id": "smooth-representation",
   "metadata": {},
   "outputs": [],
   "source": []
  },
  {
   "cell_type": "markdown",
   "id": "treated-seating",
   "metadata": {},
   "source": [
    "### Exporting Dataframes for Analysis"
   ]
  },
  {
   "cell_type": "code",
   "execution_count": 12,
   "id": "passive-algorithm",
   "metadata": {},
   "outputs": [
    {
     "name": "stdout",
     "output_type": "stream",
     "text": [
      "Step 1 of !: export as new .csv = SUCCESSFULL\n",
      "Ended process: exported  v1regional_sp_2021_03_05.csv to: v2regional_sp_2021_03_05.csv in:  ./data_processed/\n"
     ]
    },
    {
     "data": {
      "text/html": [
       "<div>\n",
       "<style scoped>\n",
       "    .dataframe tbody tr th:only-of-type {\n",
       "        vertical-align: middle;\n",
       "    }\n",
       "\n",
       "    .dataframe tbody tr th {\n",
       "        vertical-align: top;\n",
       "    }\n",
       "\n",
       "    .dataframe thead th {\n",
       "        text-align: right;\n",
       "    }\n",
       "</style>\n",
       "<table border=\"1\" class=\"dataframe\">\n",
       "  <thead>\n",
       "    <tr style=\"text-align: right;\">\n",
       "      <th></th>\n",
       "      <th>song</th>\n",
       "      <th>artist</th>\n",
       "      <th>lyrics</th>\n",
       "    </tr>\n",
       "  </thead>\n",
       "  <tbody>\n",
       "    <tr>\n",
       "      <th>0</th>\n",
       "      <td>ella no es tuya - remix</td>\n",
       "      <td>rochy rd</td>\n",
       "      <td>Sitting here wasted and wounded\\nAt this old p...</td>\n",
       "    </tr>\n",
       "    <tr>\n",
       "      <th>1</th>\n",
       "      <td>ingobernable</td>\n",
       "      <td>c. tangana</td>\n",
       "      <td>¡Eh!\\n¡Vamo'!\\n¡Pucho!\\n¡Vamo'!\\n¡Eso e'!\\n¡Es...</td>\n",
       "    </tr>\n",
       "    <tr>\n",
       "      <th>2</th>\n",
       "      <td>párteme la cara</td>\n",
       "      <td>c. tangana</td>\n",
       "      <td>Mejor dame otra calada\\nO párteme la cara\\nO m...</td>\n",
       "    </tr>\n",
       "    <tr>\n",
       "      <th>3</th>\n",
       "      <td>bandido</td>\n",
       "      <td>myke towers</td>\n",
       "      <td>Ella e' buena, pero le gustan lo' malo'\\nSi te...</td>\n",
       "    </tr>\n",
       "    <tr>\n",
       "      <th>4</th>\n",
       "      <td>tú me dejaste de querer</td>\n",
       "      <td>c. tangana</td>\n",
       "      <td>Tú me dejaste de querer cuando te necesitaba\\n...</td>\n",
       "    </tr>\n",
       "  </tbody>\n",
       "</table>\n",
       "</div>"
      ],
      "text/plain": [
       "                      song       artist  \\\n",
       "0  ella no es tuya - remix     rochy rd   \n",
       "1             ingobernable   c. tangana   \n",
       "2          párteme la cara   c. tangana   \n",
       "3                  bandido  myke towers   \n",
       "4  tú me dejaste de querer   c. tangana   \n",
       "\n",
       "                                              lyrics  \n",
       "0  Sitting here wasted and wounded\\nAt this old p...  \n",
       "1  ¡Eh!\\n¡Vamo'!\\n¡Pucho!\\n¡Vamo'!\\n¡Eso e'!\\n¡Es...  \n",
       "2  Mejor dame otra calada\\nO párteme la cara\\nO m...  \n",
       "3  Ella e' buena, pero le gustan lo' malo'\\nSi te...  \n",
       "4  Tú me dejaste de querer cuando te necesitaba\\n...  "
      ]
     },
     "execution_count": 12,
     "metadata": {},
     "output_type": "execute_result"
    }
   ],
   "source": [
    "f2.export_df_to_csv(df_spotify,st)"
   ]
  },
  {
   "cell_type": "code",
   "execution_count": 13,
   "id": "declared-graphics",
   "metadata": {},
   "outputs": [
    {
     "name": "stdout",
     "output_type": "stream",
     "text": [
      "Step 1 of !: export as new .csv = SUCCESSFULL\n",
      "Ended process: exported  v1charts.csv to: v2charts.csv in:  ./data_processed/\n"
     ]
    },
    {
     "data": {
      "text/html": [
       "<div>\n",
       "<style scoped>\n",
       "    .dataframe tbody tr th:only-of-type {\n",
       "        vertical-align: middle;\n",
       "    }\n",
       "\n",
       "    .dataframe tbody tr th {\n",
       "        vertical-align: top;\n",
       "    }\n",
       "\n",
       "    .dataframe thead th {\n",
       "        text-align: right;\n",
       "    }\n",
       "</style>\n",
       "<table border=\"1\" class=\"dataframe\">\n",
       "  <thead>\n",
       "    <tr style=\"text-align: right;\">\n",
       "      <th></th>\n",
       "      <th>song</th>\n",
       "      <th>artist</th>\n",
       "      <th>lyrics</th>\n",
       "    </tr>\n",
       "  </thead>\n",
       "  <tbody>\n",
       "    <tr>\n",
       "      <th>0</th>\n",
       "      <td>poor little fool</td>\n",
       "      <td>ricky nelson</td>\n",
       "      <td>I used to play around with hearts\\nThat hasten...</td>\n",
       "    </tr>\n",
       "    <tr>\n",
       "      <th>1</th>\n",
       "      <td>patricia</td>\n",
       "      <td>perez prado and his orchestra</td>\n",
       "      <td></td>\n",
       "    </tr>\n",
       "    <tr>\n",
       "      <th>2</th>\n",
       "      <td>splish splash</td>\n",
       "      <td>bobby darin</td>\n",
       "      <td>Splish splash, I was taking a bath\\nLong about...</td>\n",
       "    </tr>\n",
       "    <tr>\n",
       "      <th>3</th>\n",
       "      <td>hard headed woman</td>\n",
       "      <td>elvis presley with the jordanaires</td>\n",
       "      <td>Well a hard headed woman\\nA soft hearted man\\n...</td>\n",
       "    </tr>\n",
       "    <tr>\n",
       "      <th>4</th>\n",
       "      <td>when</td>\n",
       "      <td>kalin twins</td>\n",
       "      <td>When, when you smile, when you smile at me\\nWe...</td>\n",
       "    </tr>\n",
       "  </tbody>\n",
       "</table>\n",
       "</div>"
      ],
      "text/plain": [
       "                song                              artist  \\\n",
       "0   poor little fool                        ricky nelson   \n",
       "1           patricia       perez prado and his orchestra   \n",
       "2      splish splash                         bobby darin   \n",
       "3  hard headed woman  elvis presley with the jordanaires   \n",
       "4               when                         kalin twins   \n",
       "\n",
       "                                              lyrics  \n",
       "0  I used to play around with hearts\\nThat hasten...  \n",
       "1                                                     \n",
       "2  Splish splash, I was taking a bath\\nLong about...  \n",
       "3  Well a hard headed woman\\nA soft hearted man\\n...  \n",
       "4  When, when you smile, when you smile at me\\nWe...  "
      ]
     },
     "execution_count": 13,
     "metadata": {},
     "output_type": "execute_result"
    }
   ],
   "source": [
    "f2.export_df_to_csv(df_billboard,st2)"
   ]
  },
  {
   "cell_type": "code",
   "execution_count": null,
   "id": "independent-spencer",
   "metadata": {},
   "outputs": [],
   "source": []
  }
 ],
 "metadata": {
  "kernelspec": {
   "display_name": "Python 3",
   "language": "python",
   "name": "python3"
  },
  "language_info": {
   "codemirror_mode": {
    "name": "ipython",
    "version": 3
   },
   "file_extension": ".py",
   "mimetype": "text/x-python",
   "name": "python",
   "nbconvert_exporter": "python",
   "pygments_lexer": "ipython3",
   "version": "3.8.5"
  },
  "toc": {
   "base_numbering": 1,
   "nav_menu": {},
   "number_sections": false,
   "sideBar": true,
   "skip_h1_title": false,
   "title_cell": "Table of Contents",
   "title_sidebar": "Contents",
   "toc_cell": false,
   "toc_position": {
    "height": "calc(100% - 180px)",
    "left": "10px",
    "top": "150px",
    "width": "432px"
   },
   "toc_section_display": true,
   "toc_window_display": true
  },
  "varInspector": {
   "cols": {
    "lenName": 16,
    "lenType": 16,
    "lenVar": 40
   },
   "kernels_config": {
    "python": {
     "delete_cmd_postfix": "",
     "delete_cmd_prefix": "del ",
     "library": "var_list.py",
     "varRefreshCmd": "print(var_dic_list())"
    },
    "r": {
     "delete_cmd_postfix": ") ",
     "delete_cmd_prefix": "rm(",
     "library": "var_list.r",
     "varRefreshCmd": "cat(var_dic_list()) "
    }
   },
   "types_to_exclude": [
    "module",
    "function",
    "builtin_function_or_method",
    "instance",
    "_Feature"
   ],
   "window_display": false
  }
 },
 "nbformat": 4,
 "nbformat_minor": 5
}
