{
 "cells": [
  {
   "cell_type": "code",
   "execution_count": 6,
   "id": "comprehensive-brazilian",
   "metadata": {},
   "outputs": [],
   "source": [
    "import os"
   ]
  },
  {
   "cell_type": "code",
   "execution_count": 2,
   "id": "prostate-barrel",
   "metadata": {},
   "outputs": [],
   "source": [
    "url= 'https://www.kaggle.com/arashnic/hr-analytics-job-change-of-data-scientists'"
   ]
  },
  {
   "cell_type": "code",
   "execution_count": 3,
   "id": "religious-inventory",
   "metadata": {},
   "outputs": [],
   "source": [
    "user = url.split('/')[-2]\n",
    "dataset = url.split('/')[-1]"
   ]
  },
  {
   "cell_type": "code",
   "execution_count": 4,
   "id": "banned-assurance",
   "metadata": {},
   "outputs": [],
   "source": [
    "to_download = f\"kaggle datasets download -d {user}/{dataset}\"\n",
    "to_decompress = f\"tar -xzvf {dataset}.zip\"\n",
    "to_delete = f\"rm -rf {dataset}.zip\"\n",
    "make_dir = \"mkdir data_inputs\"\n",
    "lst = \"ls >> files.txt\""
   ]
  },
  {
   "cell_type": "code",
   "execution_count": 8,
   "id": "danish-wagon",
   "metadata": {},
   "outputs": [],
   "source": [
    "for i in [to_download, to_decompress, to_delete, make_dir, lst]:\n",
    "    os.system(i)"
   ]
  },
  {
   "cell_type": "code",
   "execution_count": null,
   "id": "alpha-width",
   "metadata": {},
   "outputs": [],
   "source": [
    "!ls"
   ]
  },
  {
   "cell_type": "code",
   "execution_count": null,
   "id": "pending-capital",
   "metadata": {},
   "outputs": [],
   "source": [
    "os.system(\"say -v Monica 'hola'\")"
   ]
  },
  {
   "cell_type": "code",
   "execution_count": null,
   "id": "virgin-eugene",
   "metadata": {},
   "outputs": [],
   "source": [
    "!cat files.txt"
   ]
  },
  {
   "cell_type": "code",
   "execution_count": null,
   "id": "seven-playing",
   "metadata": {},
   "outputs": [],
   "source": [
    "small_file = open(\"files.txt\").read()\n",
    "small_file"
   ]
  },
  {
   "cell_type": "code",
   "execution_count": null,
   "id": "theoretical-separation",
   "metadata": {},
   "outputs": [],
   "source": [
    "all_files = small_file.split(\"\\n\")\n",
    "all_files"
   ]
  },
  {
   "cell_type": "code",
   "execution_count": null,
   "id": "derived-lighter",
   "metadata": {},
   "outputs": [],
   "source": [
    "for i in all_files:\n",
    "    if i.endswith(\".csv\")"
   ]
  },
  {
   "cell_type": "code",
   "execution_count": 1,
   "id": "found-toronto",
   "metadata": {},
   "outputs": [],
   "source": [
    "import os\n",
    "def cool():\n",
    "    url = input(\"Please type a url: \")\n",
    "    user = url.split('/')[-2]\n",
    "    dataset = url.split('/')[-1]\n",
    "    \n",
    "    to_download = f\"kaggle datasets download -d {user}/{dataset}\"\n",
    "    to_decompress = f\"tar -xzvf {dataset}.zip\"\n",
    "    to_delete = f\"rm -rf {dataset}.zip\"\n",
    "    make_dir = \"mkdir data_inputs\"\n",
    "    \n",
    "    for i in [to_download, to_decompress, to_delete, make_dir]:\n",
    "        os.system(i)\n",
    "    \n",
    "    os.system(\"mv *.csv data_inputs\")\n",
    "    \n",
    "    winner = os.system(\"say -v Monica 'downloading'\")\n",
    "    folder_opening = os.system(\"open .\")\n",
    "    \n",
    "    return folder_opening\n",
    "    "
   ]
  },
  {
   "cell_type": "code",
   "execution_count": 2,
   "id": "czech-seventh",
   "metadata": {},
   "outputs": [
    {
     "name": "stdout",
     "output_type": "stream",
     "text": [
      "Please type a url: https://www.kaggle.com/arashnic/hr-analytics-job-change-of-data-scientists\n"
     ]
    },
    {
     "data": {
      "text/plain": [
       "0"
      ]
     },
     "execution_count": 2,
     "metadata": {},
     "output_type": "execute_result"
    }
   ],
   "source": [
    "cool()"
   ]
  },
  {
   "cell_type": "code",
   "execution_count": null,
   "id": "classified-beast",
   "metadata": {},
   "outputs": [],
   "source": []
  }
 ],
 "metadata": {
  "kernelspec": {
   "display_name": "Python 3",
   "language": "python",
   "name": "python3"
  },
  "language_info": {
   "codemirror_mode": {
    "name": "ipython",
    "version": 3
   },
   "file_extension": ".py",
   "mimetype": "text/x-python",
   "name": "python",
   "nbconvert_exporter": "python",
   "pygments_lexer": "ipython3",
   "version": "3.8.5"
  },
  "toc": {
   "base_numbering": 1,
   "nav_menu": {},
   "number_sections": true,
   "sideBar": true,
   "skip_h1_title": false,
   "title_cell": "Table of Contents",
   "title_sidebar": "Contents",
   "toc_cell": false,
   "toc_position": {},
   "toc_section_display": true,
   "toc_window_display": false
  },
  "varInspector": {
   "cols": {
    "lenName": 16,
    "lenType": 16,
    "lenVar": 40
   },
   "kernels_config": {
    "python": {
     "delete_cmd_postfix": "",
     "delete_cmd_prefix": "del ",
     "library": "var_list.py",
     "varRefreshCmd": "print(var_dic_list())"
    },
    "r": {
     "delete_cmd_postfix": ") ",
     "delete_cmd_prefix": "rm(",
     "library": "var_list.r",
     "varRefreshCmd": "cat(var_dic_list()) "
    }
   },
   "types_to_exclude": [
    "module",
    "function",
    "builtin_function_or_method",
    "instance",
    "_Feature"
   ],
   "window_display": false
  }
 },
 "nbformat": 4,
 "nbformat_minor": 5
}
