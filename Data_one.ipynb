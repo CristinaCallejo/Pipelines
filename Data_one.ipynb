{
 "cells": [
  {
   "cell_type": "code",
   "execution_count": 2,
   "id": "corporate-manitoba",
   "metadata": {},
   "outputs": [],
   "source": [
    "url= 'https://www.kaggle.com/arashnic/hr-analytics-job-change-of-data-scientists'"
   ]
  },
  {
   "cell_type": "code",
   "execution_count": 3,
   "id": "unique-budapest",
   "metadata": {},
   "outputs": [],
   "source": [
    "user = url.split('/')[-2]\n",
    "dataset = url.split('/')[-1]"
   ]
  },
  {
   "cell_type": "code",
   "execution_count": null,
   "id": "further-conclusion",
   "metadata": {},
   "outputs": [],
   "source": [
    "to_download = f\"kaggle datasets download -d {user}/{dataset}\"\n",
    "to_decompress = f\"tar -xzvf {dataset}.zip\"\n",
    "to_delete = f\"rm -rf {dataset}.zip\"\n",
    "make_dir = \"mkdir\""
   ]
  }
 ],
 "metadata": {
  "kernelspec": {
   "display_name": "Python 3",
   "language": "python",
   "name": "python3"
  },
  "language_info": {
   "codemirror_mode": {
    "name": "ipython",
    "version": 3
   },
   "file_extension": ".py",
   "mimetype": "text/x-python",
   "name": "python",
   "nbconvert_exporter": "python",
   "pygments_lexer": "ipython3",
   "version": "3.8.5"
  },
  "toc": {
   "base_numbering": 1,
   "nav_menu": {},
   "number_sections": true,
   "sideBar": true,
   "skip_h1_title": false,
   "title_cell": "Table of Contents",
   "title_sidebar": "Contents",
   "toc_cell": false,
   "toc_position": {},
   "toc_section_display": true,
   "toc_window_display": false
  },
  "varInspector": {
   "cols": {
    "lenName": 16,
    "lenType": 16,
    "lenVar": 40
   },
   "kernels_config": {
    "python": {
     "delete_cmd_postfix": "",
     "delete_cmd_prefix": "del ",
     "library": "var_list.py",
     "varRefreshCmd": "print(var_dic_list())"
    },
    "r": {
     "delete_cmd_postfix": ") ",
     "delete_cmd_prefix": "rm(",
     "library": "var_list.r",
     "varRefreshCmd": "cat(var_dic_list()) "
    }
   },
   "types_to_exclude": [
    "module",
    "function",
    "builtin_function_or_method",
    "instance",
    "_Feature"
   ],
   "window_display": false
  }
 },
 "nbformat": 4,
 "nbformat_minor": 5
}
