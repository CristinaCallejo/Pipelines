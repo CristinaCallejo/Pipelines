{
 "cells": [
  {
   "cell_type": "code",
   "execution_count": 2,
   "id": "musical-concrete",
   "metadata": {},
   "outputs": [],
   "source": [
    "import os\n",
    "import numpy as np\n",
    "import pandas as pd\n",
    "import requests\n",
    "import json\n",
    "from bs4 import BeautifulSoup\n",
    "\n",
    "import seaborn as sns\n",
    "import matplotlib.pyplot as plt\n"
   ]
  },
  {
   "cell_type": "code",
   "execution_count": 3,
   "id": "alpine-emerald",
   "metadata": {},
   "outputs": [],
   "source": [
    "from dotenv import load_dotenv"
   ]
  },
  {
   "cell_type": "code",
   "execution_count": 4,
   "id": "north-stanley",
   "metadata": {},
   "outputs": [
    {
     "data": {
      "text/plain": [
       "True"
      ]
     },
     "execution_count": 4,
     "metadata": {},
     "output_type": "execute_result"
    }
   ],
   "source": [
    "load_dotenv()"
   ]
  },
  {
   "cell_type": "code",
   "execution_count": 4,
   "id": "friendly-grocery",
   "metadata": {},
   "outputs": [],
   "source": [
    "token = os.getenv(\"token\")"
   ]
  },
  {
   "cell_type": "code",
   "execution_count": 1,
   "id": "democratic-vanilla",
   "metadata": {},
   "outputs": [
    {
     "data": {
      "text/plain": [
       "'https://open.spotify.com/playlist/4z0aU3aX74LH6uWHTygTfV'"
      ]
     },
     "execution_count": 1,
     "metadata": {},
     "output_type": "execute_result"
    }
   ],
   "source": [
    "'https://open.spotify.com/playlist/4z0aU3aX74LH6uWHTygTfV'"
   ]
  },
  {
   "cell_type": "code",
   "execution_count": 5,
   "id": "champion-voice",
   "metadata": {},
   "outputs": [],
   "source": [
    "base = \"https://www.eventbriteapi.com\""
   ]
  },
  {
   "cell_type": "code",
   "execution_count": 6,
   "id": "imperial-dominant",
   "metadata": {},
   "outputs": [],
   "source": [
    "auth  = f\"/v3/users/me/?token={token}'\""
   ]
  },
  {
   "cell_type": "code",
   "execution_count": null,
   "id": "framed-wilderness",
   "metadata": {},
   "outputs": [],
   "source": [
    "{\"Authorization\" : f\"token {api_key}\"}"
   ]
  },
  {
   "cell_type": "code",
   "execution_count": 8,
   "id": "impressed-aggregate",
   "metadata": {},
   "outputs": [],
   "source": [
    "response = requests.get (base,auth)"
   ]
  },
  {
   "cell_type": "code",
   "execution_count": 14,
   "id": "significant-boston",
   "metadata": {},
   "outputs": [
    {
     "data": {
      "text/plain": [
       "b'<!DOCTYPE html>\\n\\n\\n\\n\\n\\n<html xmlns=\"http://www.w3.org/1999/xhtml\" xmlns:fb=\"http://ogp.me/ns/fb#\" lang=\"en-us\">\\n\\n    <head>\\n        <title>\\n    Platform | Eventbrite\\n</title>\\n\\n        <meta charset=\"utf-8\" />\\n        <meta http-equiv=\"X-UA-Compatible\" content=\"IE=edge,chrome=1\">\\n        <meta name=\"viewport\" content=\"initial-scale=1, width=device-width\">\\n        <meta http-equiv=\"Content-Language\" content=\"en\" />\\n        \\n\\n    <link rel=\"icon\" type=\"image/png\" href=\"https://cdn.evbstatic.com/s3-build/perm_001/8a4e23/django/images/favicons/favicon-32x32.png\" sizes=\"32x32\">\\n    <link rel=\"icon\" type=\"image/png\" href=\"https://cdn.evbstatic.com/s3-build/perm_001/477279/django/images/favicons/favicon-194x194.png\" sizes=\"194x194\">\\n    <link rel=\"icon\" type=\"image/png\" href=\"https://cdn.evbstatic.com/s3-build/perm_001/70b79b/django/images/favicons/favicon-96x96.png\" sizes=\"96x96\">\\n    <link rel=\"icon\" type=\"image/png\" href=\"https://cdn.evbstatic.com/s3-build/perm_001/67b5d4/django/images/favicons/android-chrome-192x192.png\" sizes=\"192x192\">\\n    <link rel=\"icon\" type=\"image/png\" href=\"https://cdn.evbstatic.com/s3-build/perm_001/08b9c2/django/images/favicons/favicon-16x16.png\" sizes=\"16x16\">\\n    <link rel=\"shortcut icon\" href=\"https://cdn.evbstatic.com/s3-build/perm_001/471d17/django/images/favicons/favicon.ico\">\\n\\n<link rel=\"mask-icon\" href=\"https://cdn.evbstatic.com/s3-build/perm_001/a24d6e/django/images/favicons/safari-pinned-tab.svg\" color=\"#f6682f\">\\n<meta name=\"apple-mobile-web-app-title\" content=\"Eventbrite\">\\n<meta name=\"application-name\" content=\"Eventbrite\">\\n<meta name=\"msapplication-TileColor\" content=\"#f6682f\">\\n<meta name=\"msapplication-TileImage\" content=\"https://cdn.evbstatic.com/s3-build/perm_001/8ad267/django/images/favicons/mstile-144x144.png\">\\n<meta name=\"theme-color\" content=\"#f6682f\">\\n\\n        \\n<link rel=\"apple-touch-icon\" href=\"https://cdn.evbstatic.com/s3-build/perm_001/eba891/django/images/touch_icons/apple-touch-icon-180x180.png\">\\n\\n        <!-- HERE -->\\n        \\n<script  type=\"text/javascript\" src=\"https://cdn.evbstatic.com/s3-build/perm_001/874c17/django/js/src/eb/evidon_consent.js\" crossorigin=\"anonymous\"></script>\\n \\n\\n<!-- Evidon Cookie Consent Code -->\\n<!-- END Evidon Cookie Consent Code -->\\n\\n\\n        \\n            <link rel=\"manifest\" href=\"https://cdn.evbstatic.com/s3-build/perm_001/fe7929/django/images/favicons/manifest.webmanifest\">\\n        \\n\\n        <meta name=\"y_key\" content=\"d92e23811007b438\">\\n        <meta name=\"msvalidate.01\" content=\"A9AB07B7E430E4608E0BC57AFA5004AA\" />\\n\\n        \\n        \\n\\n        \\n\\n<script type=\"text/javascript\">\\n    window.EBFONT_PROPERTIES = {\\n        \\'family\\': \\'Neue Plak\\',\\n        \\'src\\': \\'https://cdn.evbstatic.com/s3-build/perm_001/bf1c05/django/js/src/eb/fonts/neueplak.js\\',\\n        \\'oldVersions\\': [\\'EB.fonts.neueplak.10-24-2018\\', \\'EB.fonts.neueplak.09-20-2018\\', \\'EB.fonts.neueplak.09-04-2018\\', \\'EB.fonts.neueplak.08-30-2018\\', \\'EB.fonts.neueplak.08-24-2018\\', \\'EB.fonts.benton.10-26-2016\\', \\'EB.fonts.benton.11-29-2016\\'],\\n        \\'version\\': \\'EB.fonts.neueplak.03-19-2019\\',\\n    };\\n</script>\\n<script type=\"text/javascript\" charset=\"utf-8\" crossorigin=\"anonymous\">/* eslint-disable */\\n!function(a,b){if(a.EB=a.EB||{},EB.renderFonts=function(a,c){for(var d=\"\",e=b.createElement(\"style\"),f=0,g;g=a[f];f++)d+=\"@font-face{font-family:\\'\"+c+\"\\';font-weight:\"+g.weight+\";font-style:\"+g.style+\";src:url(data:application/font-woff;base64,\"+g.base64+\") format(\\'woff\\');}\";e.styleSheet&&!e.sheet?e.styleSheet.cssText=d:e.appendChild(b.createTextNode(d)),b.getElementsByTagName(\"head\")[0].appendChild(e),b.documentElement.className+=\" font-has-loaded\"},EB.readWriteFontFromLocalStorage=function(a){for(var c=0;c<a.EBFONT_PROPERTIES.oldVersions.length;c++)localStorage.removeItem(a.EBFONT_PROPERTIES.oldVersions[c]);var d=JSON.parse(localStorage.getItem(a.EBFONT_PROPERTIES.version));if(d)EB.renderFonts(d,a.EBFONT_PROPERTIES.family);else{EB.shouldRenderFonts=!0;var e=b.createElement(\"script\");e.src=a.EBFONT_PROPERTIES.src,b.getElementsByTagName(\"head\")[0].appendChild(e),setTimeout(function(){EB.shouldRenderFonts=!1},3e3)}},a.localStorage)try{localStorage.setItem(\"localStorage\",1),localStorage.removeItem(\"localStorage\"),EB.readWriteFontFromLocalStorage(a)}catch(c){Storage.prototype._setItem=Storage.prototype.setItem,Storage.prototype.setItem=function(){}}}(window,document);\\n//# sourceMappingURL=ebfont.js.map</script>\\n\\n\\n        \\n        \\n\\n        \\n        \\n\\n        \\n    \\n        <!-- Begin Anti-flicker Snippet (Optimize) -->\\n        <style type=\"text/css\">\\n            .async-hide {\\n                opacity: 0 !important\\n            }\\n        </style>\\n        <script>\\n            (function(a, s, y, n, c, h, i, d, e) {\\n                s.className += \\' \\' + y;\\n                h.start = 1 * new Date;\\n                h.end = i = function() {\\n                    s.className = s.className.replace(RegExp(\\' ?\\' + y), \\'\\')\\n                };\\n                (a[n] = a[n] || []).hide = h;\\n                setTimeout(function() {\\n                    i();\\n                    h.end = null\\n                }, c);\\n                h.timeout = c;\\n            })(window, document.documentElement, \\'async-hide\\', \\'dataLayer\\', 2000, {\\n                // Timeout above can be modified from 2000 (2 seconds)\\n                \\'GTM-TQNBR5M\\': true // Use your Optimize container ID\\n            });\\n        </script>\\n        <!-- End Anti-flicker Snippet (Optimize)  -->\\n\\n        <script type=\"text/javascript\">\\n        //<![CDATA[\\n        (function() {\\n            var ga = document.createElement(\\'script\\'); ga.type = \\'text/javascript\\'; ga.defer = true;\\n            ga.src = (\\'https:\\' == document.location.protocol ? \\'https://ssl\\' : \\'http://www\\') + \\'.google-analytics.com/ga.js\\';\\n            var s = document.getElementsByTagName(\\'script\\')[0]; s.parentNode.insertBefore(ga, s);\\n        })();\\n\\n        var _gaq = _gaq || [];\\n        //]]>\\n        </script>\\n        <script>\\n            (function(i,s,o,g,r,a,m){i[\\'GoogleAnalyticsObject\\']=r;i[r]=i[r]||function(){\\n            (i[r].q=i[r].q||[]).push(arguments)},i[r].l=1*new Date();a=s.createElement(o),\\n            m=s.getElementsByTagName(o)[0];a.async=1;a.src=g;m.parentNode.insertBefore(a,m)\\n        })(window,document,\\'script\\',\\'//www.google-analytics.com/analytics.js\\',\\'ga\\');\\n\\n            ga(\\'create\\', \\'UA-141520-1\\', {\\'allowLinker\\': true, \\'cookieFlags\\': \\'SameSite=None; Secure\\' }, \\'auto\\');\\n\\n\\n            ga(\\'set\\', \\'forceSSL\\', true);\\n            ga(\\'require\\', \\'GTM-TQNBR5M\\');\\n        </script>\\n\\n\\n        \\n        \\n\\n        \\n    \\n\\n\\n\\n\\n\\n<meta name=\"robots\" content=\"index, follow, \" />\\n\\n    <meta name=\"description\" content=\"Eventbrite brings people together through live experiences. Discover events that match your passions, or create your own with online ticketing tools.\" />\\n        \\n\\n        <link id=\"spa_css_bundle\" rel=\"stylesheet\" type=\"text/css\" href=\"https://cdn.evbstatic.com/s3-build/spa/xdev/2.7.11/xdev.css\" />\\n    </head>\\n\\n    \\n\\n    <body class=\"\">\\n        \\n            <div id=\"root\"></div>\\n        \\n\\n        <div style=\\'display:none\\'><input type=\\'hidden\\' name=\\'csrfmiddlewaretoken\\' value=\\'59AQKCJqEt0gvUB5uhT6Dq16aTWYw9ix\\'/></div>\\n\\n        \\n\\n\\n\\n\\n\\n<script src=\"//d2wy8f7a9ursnm.cloudfront.net/v6.4.0/bugsnag.min.js\"></script>\\n<script type=\"text/javascript\">\\n    var bugsnagClientOptions = {\"sessionTrackingEnabled\":true,\"releaseStage\":\"production\",\"apiKey\":\"85191ee1208c343458906f7573d09a18\",\"autoNotify\":true,\"appVersion\":\"58595-rc2021-04-07_16.04-36b8013\"};\\n    bugsnagClientOptions.beforeSend = function(report) {\\n        var multiplier = Math.pow(10, 2),\\n            loadedResources = getLoadedResources(),\\n            requireBaseConfigLoaded = false,\\n            tags = report.metaData.tags,\\n            bugsnagErrorUrl = \\'https://app.bugsnag.com/eventbrite-1/core-js/errors?sort=last_seen&filters[event.since][0]=1h&filters[app.release_stage][0][type]=eq&filters[error.status][0][type]=eq&filters[error.status][0][value]=open&filters[app.context][0][type]=eq\\' +\\n                \\'&filters[app.release_stage][0][value]=\\' + report.app.releaseStage +\\n                \\'&filters[app.context][0][value]=\\' + report.context,\\n            allScriptTags;\\n\\n        function round(number) {\\n            return Math.round(number * multiplier) / multiplier;\\n        }\\n        function getLoadedResources() {\\n            try {\\n                return performance\\n                    .getEntriesByType(\\'resource\\')\\n                    .filter(function(resource) {return resource.initiatorType === \\'script\\' || resource.initiatorType === \\'link\\';})\\n                    .map(function(resource) {return \\'(\\' + round(resource.duration) + \\'ms) \\' + resource.name;});\\n            } catch(ex) {\\n                return [];\\n            }\\n        }\\n        report.updateMetaData(\\'loadedResources\\', loadedResources);\\n\\n        // Do some extra checking for the listing page which is a cause of a lot\\n        // of script loading issues\\n        if (report.context === \\'listing\\') {\\n            // check to see if require_base_config.js was loaded\\n            for (var i = 0; i < loadedResources.length; i++) {\\n                if (loadedResources[i].indexOf(\\'require_base_config.js\\') > -1) {\\n                    requireBaseConfigLoaded = true;\\n                    break;\\n                }\\n            }\\n\\n            // if not, find the script tag with the src and make a fetch call\\n            // to see if there\\'s a problem with the URL, it was a blip, etc.\\n            // this should help debug the problem better.\\n            if (!requireBaseConfigLoaded && window.fetch) {\\n                allScriptTags = document.querySelectorAll(\\'script\\');\\n\\n                for (var i = 0; i < allScriptTags.length; i++) {\\n                    if (allScriptTags[i].src && allScriptTags[i].src.indexOf(\\'require_base_config.js\\') > -1) {\\n                        // returning a promise makes beforeSend act asynchronously so it\\'ll\\n                        // wait until the promise resolves/rejects.\\n                        // if the fetch was successful, then we return the status code. this would\\n                        // mean that the initial load for require_base_config failed, but a subsequent\\n                        // one passed. if the fetch was unsuccessful then we\\'ll get the error message\\n                        // to see what\\'s going on.\\n                        return fetch(allScriptTags[i].src)\\n                            .then(\\n                                function(resp) { tags[\\'require_base_config\\'] = resp.status; },\\n                                function(err) { tags[\\'require_base_config\\'] = err.message; }\\n                            )\\n                            .then(function() {tags[\\'require_base_config_url\\'] = allScriptTags[i]; });\\n                    }\\n                }\\n            }\\n        }\\n\\n        report.updateMetaData(\\'loadedResources\\', loadedResources);\\n\\n    };\\n\\n    window.bugsnagClient = bugsnag(bugsnagClientOptions);\\n    window.bugsnagClient.context = \"xdev\";\\n    window.bugsnagClient.user = {\"lang\":\"en-us\",\"attendee\":false,\"session\":\"eHyD79y3eOWkAfXAH1E7Rw\",\"authenticated\":false,\"has_any_global_permission\":false,\"locale\":\"en_US\",\"id\":null,\"email\":null};\\n    window.bugsnagClient.metaData = {\"tags\":{\"isWebpack\":true,\"branch\":\"rc2021\",\"spaName\":\"xdev\",\"commit\":\"36b8013\",\"serverName\":\"prod-bot-www3.aws-us-east-1.evbops.com\",\"spaVersion\":\"2.7.11\",\"isReact\":true}};\\n</script>\\n\\n        \\n\\n<script type=\"text/javascript\" src=\"https://nebula-cdn.kampyle.com/wu/618221/onsite/embed.js\" async></script>\\n\\n\\n\\n        <script  type=\"text/javascript\" src=\"https://cdn.evbstatic.com/s3-build/perm_001/7be3dc/django/js/src/jsi18n/jsi18n_en-us.js\" crossorigin=\"anonymous\"></script>\\n\\n\\n        \\n        \\n\\n        <!-- HERE in the base spa -->\\n        <script type=\"text/javascript\">\\n            window.__i18n__ = {\"locale\":\"en_US\"};\\n\\n            \\n            \\n\\n           \\n                window.__SERVER_DATA__ = {\"robots_follow\":true,\"gaSettings\":{\"userPartnerId\":null,\"appName\":\"xdev\",\"activeScopeUserId\":null,\"appVersion\":\"2.7.11\",\"guestPartnerId\":\"de57256e_e9e8491340b8ad62c0e9a0c078d413d00e69f33efff82278680196138fe542090c3d58f1fd9ed99bc35c2b8a5af1a86f\",\"isActive\":true,\"correlationId\":\"39cd1fde996011ebb68d0e8cca03c67c\"},\"should_index\":true,\"app_name\":\"xdev\",\"media_url\":\"https://cdn.evbstatic.com/s3-build/spa/\",\"request\":{\"default_location_for_tld\":{\"city\":\"New York\",\"region_code\":\"NY\",\"postal_code\":\"11101\",\"country_code\":\"US\",\"latitude\":40.73061,\"country\":\"United States\",\"region\":\"New York\",\"location_slug\":\"ny--new-york\",\"longitude\":-73.935242},\"is_bot\":true,\"session_id\":\"eHyD79y3eOWkAfXAH1E7Rw\",\"correlation_id\":\"39cd1fde996011ebb68d0e8cca03c67c\",\"params\":{},\"path\":\"/platform/\"},\"user\":{\"hasTikibar\":false,\"publicId\":null,\"hasEvents\":false,\"canUseStudio\":false,\"usesNewPermissions\":false,\"isStaff\":false,\"canInvite\":false,\"fullName\":null,\"thumbnailUrl\":null,\"hasOrganizers\":false,\"numOrders\":0,\"firstName\":null,\"hasGlobalPermissions\":false,\"isAttendee\":false,\"lastName\":null,\"activeOrganization\":null,\"hasContactsPermission\":false,\"canCreateEvents\":false,\"email\":null,\"isAuthenticated\":false,\"canUseInterests\":true},\"env\":{\"defaultCurrency\":\"USD\",\"signupUrl\":\"https://www.eventbrite.com/signup/?referrer=%2Fplatform%2F\\\\u0026user_type=prebuyer\\\\u0026user_type_sig=AH_ElWFtAPTNevoZbrZmXPS30MQ1eeNygw\",\"isEmbeddedView\":false,\"serverUrl\":\"https://www.eventbrite.com\",\"showCookieHeader\":true,\"organizeUrls\":{\"suggested\":[{\"url\":\"/organizer/overview\",\"gaLabel\":\"Overview\",\"accentLink\":false,\"label\":\"Overview\"},{\"url\":\"/organizer/pricing\",\"gaLabel\":\"Pricing\",\"accentLink\":false,\"label\":\"Pricing\"},{\"url\":\"https://www.eventbrite.com/blog/\",\"gaLabel\":\"Organize\",\"accentLink\":false,\"label\":\"Blog\"},{\"url\":\"/blog/academy/\",\"gaLabel\":\"Organize\",\"accentLink\":false,\"label\":\"Resources\"}],\"home\":{\"url\":\"/how-it-works/\",\"gaLabel\":\"HowItWorks\",\"label\":\"How it works\"}},\"signupNoReferrerUrl\":\"https://www.eventbrite.com/signup/?user_type=prebuyer\\\\u0026user_type_sig=AH_ElWFtAPTNevoZbrZmXPS30MQ1eeNygw\",\"ebDomain\":\"eventbrite.com\",\"helpUrls\":{\"impressum\":\"https://www.eventbrite.com/support/articleredirect?anum=10983\",\"home\":\"https://www.eventbrite.com/support\",\"suggested\":[{\"url\":\"/how-it-works/\",\"gaLabel\":\"HowItWorks\",\"label\":\"How it works\"},{\"url\":\"/fees/\",\"gaLabel\":\"WhatItCosts\",\"label\":\"What does it cost to create an event?\"},{\"url\":\"https://www.eventbrite.com/support/articleredirect?anum=3776\",\"gaLabel\":\"WhereToFind\",\"label\":\"Where are my tickets?\"},{\"url\":\"https://www.eventbrite.com/support/articleredirect?anum=3275\",\"gaLabel\":\"HowToContact\",\"label\":\"How to contact the event organizer\"}]},\"locales\":[{\"locale\":\"es_AR\",\"localized_language_name\":\"Espa\\\\u00f1ol (AR)\",\"locale_name\":\"Argentina\"},{\"locale\":\"en_AU\",\"localized_language_name\":\"English (AU)\",\"locale_name\":\"Australia\"},{\"locale\":\"nl_BE\",\"localized_language_name\":\"Belge\",\"locale_name\":\"Belgi\\\\u00eb\"},{\"locale\":\"fr_BE\",\"localized_language_name\":\"Fran\\\\u00e7ais (BE)\",\"locale_name\":\"Belgique\"},{\"locale\":\"pt_BR\",\"localized_language_name\":\"Portugu\\\\u00eas (BR)\",\"locale_name\":\"Brasil\"},{\"locale\":\"en_CA\",\"localized_language_name\":\"English (CA)\",\"locale_name\":\"Canada (EN)\"},{\"locale\":\"fr_CA\",\"localized_language_name\":\"Fran\\\\u00e7ais (CA)\",\"locale_name\":\"Canada (FR)\"},{\"locale\":\"es_CL\",\"localized_language_name\":\"Espa\\\\u00f1ol\",\"locale_name\":\"Chile\"},{\"locale\":\"es_CO\",\"localized_language_name\":\"Espa\\\\u00f1ol (ES)\",\"locale_name\":\"Colombia\"},{\"locale\":\"en_DK\",\"localized_language_name\":\"English (DK)\",\"locale_name\":\"Denmark\"},{\"locale\":\"de_DE\",\"localized_language_name\":\"Deutsch\",\"locale_name\":\"Deutschland\"},{\"locale\":\"es_ES\",\"localized_language_name\":\"Espa\\\\u00f1ol (ES)\",\"locale_name\":\"Espa\\\\u00f1a\"},{\"locale\":\"en_FI\",\"localized_language_name\":\"English (FI)\",\"locale_name\":\"Finland\"},{\"locale\":\"fr_FR\",\"localized_language_name\":\"Fran\\\\u00e7ais\",\"locale_name\":\"France\"},{\"locale\":\"en_HK\",\"localized_language_name\":\"English (HK)\",\"locale_name\":\"Hong Kong\"},{\"locale\":\"en_IE\",\"localized_language_name\":\"English (UK)\",\"locale_name\":\"Ireland\"},{\"locale\":\"it_IT\",\"localized_language_name\":\"Italiano\",\"locale_name\":\"Italia\"},{\"locale\":\"es_MX\",\"localized_language_name\":\"Espa\\\\u00f1ol (MX)\",\"locale_name\":\"M\\\\u00e9xico\"},{\"locale\":\"nl_NL\",\"localized_language_name\":\"Nederlands\",\"locale_name\":\"Nederland\"},{\"locale\":\"en_NZ\",\"localized_language_name\":\"English (Australia/New Zealand)\",\"locale_name\":\"New Zealand\"},{\"locale\":\"de_AT\",\"localized_language_name\":\"Deutsch\",\"locale_name\":\"\\\\u00d6sterreich\"},{\"locale\":\"es_PE\",\"localized_language_name\":\"Espa\\\\u00f1ol (ES)\",\"locale_name\":\"Per\\\\u00fa\"},{\"locale\":\"pt_PT\",\"localized_language_name\":\"Portugu\\\\u00eas\",\"locale_name\":\"Portugal\"},{\"locale\":\"de_CH\",\"localized_language_name\":\"Deutsch (CH)\",\"locale_name\":\"Schweiz\"},{\"locale\":\"en_SG\",\"localized_language_name\":\"English (SG)\",\"locale_name\":\"Singapore\"},{\"locale\":\"fr_CH\",\"localized_language_name\":\"Fran\\\\u00e7ais (CH)\",\"locale_name\":\"Suisse\"},{\"locale\":\"sv\",\"localized_language_name\":\"Svenska\",\"locale_name\":\"Sverige\"},{\"locale\":\"en_GB\",\"localized_language_name\":\"English (UK)\",\"locale_name\":\"United Kingdom\"},{\"locale\":\"en_US\",\"localized_language_name\":\"English (US)\",\"locale_name\":\"United States\"}],\"searchQuery\":null,\"searchLocation\":{\"address\":\"New York, NY\"},\"adminServerUrl\":\"https://admin.eventbrite.com\",\"currencyFormat\":\"\\\\u00a4#,##0.00\",\"logoutUrl\":\"https://www.eventbrite.com/logout/?referrer=%2Fplatform%2F\",\"launchNewNavigationHeader\":false,\"loginUrl\":\"https://www.eventbrite.com/login/?referrer=%2Fplatform%2F\",\"localeInfo\":{\"flag_logo_url\":\"https://cdn.evbstatic.com/s3-s3/marketing/migration/US-flag.png\",\"gold_support_phone_number\":\"1-877-297-6805\",\"greetings\":[\"Hello\",\"Hi\",\"Greetings\",\"Dear\"],\"country_code\":\"US\",\"language_code\":\"en\",\"silver_support_phone_number\":\"1-877-297-6805\",\"has_phone_support\":true,\"show_link_to_music_microsite\":true,\"flag_logo_medium_url\":\"https://cdn.evbstatic.com/s3-s3/marketing/migration/US-flag-32x32.png\",\"paypal_locale\":\"en_US\",\"group\":\"AMERICA\",\"sales_email\":\"sales@eventbrite.com\",\"prefixes\":[\"Mr.\",\"Mrs.\",\"Ms.\",\"Miss\",\"Mx.\",\"Dr.\",\"Prof.\",\"Rev.\"],\"npo_service_fee_percent\":\"2.0%\",\"uses_metric_system\":false,\"has_localized_support_team\":false,\"is_eventioz_locale\":false,\"latitude\":37.775262,\"app_store_download_icon_url\":\"https://cdn.evbstatic.com/s3-s3/marketing/app_cta/en_us/Download_on_the_App_Store_Badge_US-UK_135x40.svg\",\"android_entrymanager_url\":\"https://play.google.com/store/apps/details?id=com.eventbrite.organizer\\\\u0026hl=en_US\",\"press_email\":\"press@eventbrite.com\",\"hiw_sales_phone_number\":\"1-855-292-7905\",\"base_ios_app_url\":\"http://itunes.apple.com/%s/app/eventbrite/id487922291\",\"is_locale_enabled\":true,\"from_mail_charity\":\"charity@eventbrite.com\",\"get_default_location_dict\":{\"city\":\"New York\",\"region_code\":\"NY\",\"postal_code\":\"11101\",\"country_code\":\"US\",\"latitude\":40.73061,\"country\":\"United States\",\"region\":\"New York\",\"location_slug\":\"ny--new-york\",\"longitude\":-73.935242},\"get_default_location_name\":\"New York, NY\",\"terms_of_service_url\":\"https://www.eventbrite.com/l/LegalTerms\",\"server\":\"http://www.eventbrite.com\",\"address_4\":\"United States\",\"address_1\":\"Eventbrite, Inc.\",\"address_2\":\"155 5th St, 7th Floor\",\"address_3\":\"San Francisco, CA 94103\",\"attendee_support_phone_number\":\"1-888-810-2063\",\"default_location_for_tld\":{\"city\":\"New York\",\"region_code\":\"NY\",\"postal_code\":\"11101\",\"country_code\":\"US\",\"latitude\":40.73061,\"country\":\"United States\",\"region\":\"New York\",\"location_slug\":\"ny--new-york\",\"longitude\":-73.935242},\"twitter_handle\":\"Eventbrite\",\"play_store_badge_url\":\"https://cdn.evbstatic.com/s3-s3/marketing/app_cta/en_us/en_generic_rgb_wo_45.png\",\"locale\":\"en_US\",\"base_android_app_url\":\"https://play.google.com/store/apps/details?id=com.eventbrite.attendee\\\\u0026hl=%s\",\"google_maps_language\":\"en\",\"base_ios_app_badge_url\":\"%(server)s/eventbriteapp/?appstore\\\\u0026%(affiliate_params)s\",\"paypal_support_number\":\"888-221-1161\",\"localized_language_name\":\"English (US)\",\"facebook_page\":\"www.facebook.com/Eventbrite\",\"on_demand_payout_allowed\":false,\"nonprofit_501c3_fax_number\":\"1-888-855-2521\",\"app_store_available_icon_url\":\"https://cdn.evbstatic.com/s3-s3/marketing/app_cta/en_us/Available_on_the_App_Store_Badge_US-UK_135x40.svg\",\"base_medium_logo_url\":\"https://cdn.evbstatic.com/s3-s3/marketing/migration/%s-flag-32x32.png\",\"support_number_winter_hours\":null,\"is_deferred_payment_options_allowed\":false,\"music_microsite_url\":\"https://www.eventbrite.com/l/music/\",\"first_week_day\":6,\"support_team_landing_page\":\"\",\"sales_hours\":\"Mon-Fri 6am-6pm PT\",\"from_mail_order\":\"orders@eventbrite.com\",\"support_phone\":\"1-800-350-8850\",\"sales_contact_landing_page\":\"/l/contact-sales/\",\"support_number_summer_hours\":null,\"adobe_reader_url\":\"http://get.adobe.com/reader/\",\"from_mail_installments\":\"installments@eventbrite.com\",\"available_for_event_listing_override\":null,\"contact_sales_phone_number\":\"+1-877-620-9578\",\"tld\":\".com\",\"contact_us_path\":\"support/contact-us\",\"show_cookie_policy_bar\":false,\"base_app_store_available_icon_url\":\"https://cdn.evbstatic.com/s3-s3/marketing/app_cta/%s/Available_on_the_App_Store_Badge_%s_135x40.svg\",\"default_adobe_download_url\":\"http://get.adobe.com/reader/\",\"recaptcha_language\":\"en\",\"base_ios_entrymanager_url\":\"http://itunes.apple.com/%s/app/entry-manager/id368260521\",\"default_language\":\"en-us\",\"domain\":\"eventbrite.com\",\"base_android_entrymanager_url\":\"https://play.google.com/store/apps/details?id=com.eventbrite.organizer\\\\u0026hl=%s\",\"outside_us_organizer_phone_number\":\"1-804-201-9585\",\"default_currency\":\"USD\",\"base_play_store_badge_url\":\"https://cdn.evbstatic.com/s3-s3/marketing/app_cta/%s/%s_generic_rgb_wo_45.png\",\"old_event_locale\":null,\"press_blog_url\":\"/blog/press/\",\"sales_phone_and_hours\":\"1-888-541-9753 Mon-Fri 6am-6pm PT\",\"from_mail_ebhelp\":\"ebhelp@eventbrite.com\",\"base_adobe_download_url\":\"http://get.adobe.com/%(language_code)s/reader/\",\"organizations_support_phone_number\":\"1-855-872-1525\",\"support_number_hours\":null,\"contact_us_sales_phone_number\":\"1-800-993-7308\",\"default_timezone\":\"America/Los_Angeles\",\"show_support_special_hours_on_contact_us\":false,\"live_ops_support_phone_number\":null,\"contact_us_url\":\"https://www.eventbrite.com/support/contact-us\",\"instagram_page\":\"www.instagram.com/eventbrite/\",\"default_language_name\":\"English (US)\",\"longitude\":-122.400197,\"twitter_page\":\"www.twitter.com/Eventbrite\",\"localized_country_name\":\"United States\",\"feature_flag\":null,\"android_attendee_app_url\":\"https://play.google.com/store/apps/details?id=com.eventbrite.attendee\\\\u0026hl=en_US\",\"is_latam\":false,\"ios_entrymanager_url\":\"http://itunes.apple.com/us/app/entry-manager/id368260521\",\"base_app_store_download_icon_url\":\"https://cdn.evbstatic.com/s3-s3/marketing/app_cta/%s/Download_on_the_App_Store_Badge_%s_135x40.svg\",\"npo_service_fee_charge\":\"$0.99 per ticket\",\"facebook_locale\":\"en_US\",\"paypal_locale_lc\":\"us\",\"support_phone_number\":\"1-800-350-8850\",\"npo_email\":\"nonprofit@eventbrite.com\",\"first_week_day_from_sunday\":0,\"hreflang\":\"en-us\",\"tos_path\":\"/l/LegalTerms\",\"default_paper_size\":\"letter\",\"base_android_app_badge_url\":\"%(server)s/eventbriteapp/?playstore\\\\u0026%(affiliate_params)s\",\"locale_name\":\"United States\",\"default_professional_package\":true,\"sales_phone_number\":\"1-888-541-9753\",\"google_analytics_url\":\"http://www.google.com/analytics\",\"base_flag_logo_url\":\"https://cdn.evbstatic.com/s3-s3/marketing/migration/%s-flag.png\",\"contact_sales_form_phone_number\":\"1-888-203-4469\",\"alt_phone_number\":\"1-888-248-4220\",\"sales_contact_link_text\":\"Contact Sales\",\"ssl_server\":\"https://www.eventbrite.com\",\"support_team_link_text\":\"\",\"ios_attendee_app_url\":\"http://itunes.apple.com/us/app/eventbrite/id487922291\",\"music_url\":\"/l/music/\",\"default_package\":\"package2\",\"skip_package_selection\":false,\"blog_url\":\"www.eventbrite.com/blog/\",\"outside_us_phone_number\":\"1-415-694-7900\",\"linked_in_page\":\"www.linkedin.com/company/eventbrite\",\"live_ops_outside_us_phone_number\":\"1-415-813-3236\"},\"isMobile\":false},\"app_version\":\"2.7.11\",\"footerLinks\":{\"thirdFooterColumnName\":\"Find Events\",\"countries\":[{\"locale\":\"es_AR\",\"locale_name\":\"Argentina\",\"href\":\"http://www.eventbrite.com.ar\",\"tld\":\".com.ar\"},{\"locale\":\"en_AU\",\"locale_name\":\"Australia\",\"href\":\"http://www.eventbrite.com.au\",\"tld\":\".com.au\"},{\"locale\":\"nl_BE\",\"locale_name\":\"Belgi\\\\u00eb\",\"href\":\"http://www.eventbrite.be\",\"tld\":\".be\"},{\"locale\":\"fr_BE\",\"locale_name\":\"Belgique\",\"href\":\"http://www.eventbrite.be/fr_BE/\",\"tld\":\".be\"},{\"locale\":\"pt_BR\",\"locale_name\":\"Brasil\",\"href\":\"http://www.eventbrite.com.br\",\"tld\":\".com.br\"},{\"locale\":\"en_CA\",\"locale_name\":\"Canada (EN)\",\"href\":\"http://www.eventbrite.ca\",\"tld\":\".ca\"},{\"locale\":\"fr_CA\",\"locale_name\":\"Canada (FR)\",\"href\":\"http://www.eventbrite.ca/fr_CA/\",\"tld\":\".ca\"},{\"locale\":\"es_CL\",\"locale_name\":\"Chile\",\"href\":\"http://www.eventbrite.cl\",\"tld\":\".cl\"},{\"locale\":\"es_CO\",\"locale_name\":\"Colombia\",\"href\":\"http://www.eventbrite.co\",\"tld\":\".co\"},{\"locale\":\"en_DK\",\"locale_name\":\"Denmark\",\"href\":\"http://www.eventbrite.dk\",\"tld\":\".dk\"},{\"locale\":\"de_DE\",\"locale_name\":\"Deutschland\",\"href\":\"http://www.eventbrite.de\",\"tld\":\".de\"},{\"locale\":\"es_ES\",\"locale_name\":\"Espa\\\\u00f1a\",\"href\":\"http://www.eventbrite.es\",\"tld\":\".es\"},{\"locale\":\"en_FI\",\"locale_name\":\"Finland\",\"href\":\"http://www.eventbrite.fi\",\"tld\":\".fi\"},{\"locale\":\"fr_FR\",\"locale_name\":\"France\",\"href\":\"http://www.eventbrite.fr\",\"tld\":\".fr\"},{\"locale\":\"en_HK\",\"locale_name\":\"Hong Kong\",\"href\":\"http://www.eventbrite.hk\",\"tld\":\".hk\"},{\"locale\":\"en_IE\",\"locale_name\":\"Ireland\",\"href\":\"http://www.eventbrite.ie\",\"tld\":\".ie\"},{\"locale\":\"it_IT\",\"locale_name\":\"Italia\",\"href\":\"http://www.eventbrite.it\",\"tld\":\".it\"},{\"locale\":\"es_MX\",\"locale_name\":\"M\\\\u00e9xico\",\"href\":\"http://www.eventbrite.com.mx\",\"tld\":\".com.mx\"},{\"locale\":\"nl_NL\",\"locale_name\":\"Nederland\",\"href\":\"http://www.eventbrite.nl\",\"tld\":\".nl\"},{\"locale\":\"en_NZ\",\"locale_name\":\"New Zealand\",\"href\":\"http://www.eventbrite.co.nz\",\"tld\":\".co.nz\"},{\"locale\":\"de_AT\",\"locale_name\":\"\\\\u00d6sterreich\",\"href\":\"http://www.eventbrite.at\",\"tld\":\".at\"},{\"locale\":\"es_PE\",\"locale_name\":\"Per\\\\u00fa\",\"href\":\"http://www.eventbrite.com.pe\",\"tld\":\".com.pe\"},{\"locale\":\"pt_PT\",\"locale_name\":\"Portugal\",\"href\":\"http://www.eventbrite.pt\",\"tld\":\".pt\"},{\"locale\":\"de_CH\",\"locale_name\":\"Schweiz\",\"href\":\"http://www.eventbrite.ch\",\"tld\":\".ch\"},{\"locale\":\"en_SG\",\"locale_name\":\"Singapore\",\"href\":\"http://www.eventbrite.sg\",\"tld\":\".sg\"},{\"locale\":\"fr_CH\",\"locale_name\":\"Suisse\",\"href\":\"http://www.eventbrite.ch/fr_CH/\",\"tld\":\".ch\"},{\"locale\":\"sv\",\"locale_name\":\"Sverige\",\"href\":\"http://www.eventbrite.se\",\"tld\":\".se\"},{\"locale\":\"en_GB\",\"locale_name\":\"United Kingdom\",\"href\":\"http://www.eventbrite.co.uk\",\"tld\":\".co.uk\"},{\"locale\":\"en_US\",\"locale_name\":\"United States\",\"href\":\"http://www.eventbrite.com\",\"tld\":\".com\"}],\"thirdFooterColumn\":[{\"locale\":\"en_US\",\"pk\":642,\"title\":\"Virtual Events\",\"link\":\"https://www.eventbrite.com/d/online/events/\",\"position\":1},{\"locale\":\"en_US\",\"pk\":1,\"title\":\"Online Webinars\",\"link\":\"https://www.eventbrite.com/d/online/webinars/\",\"position\":2},{\"locale\":\"en_US\",\"pk\":54,\"title\":\"Online Classes\",\"link\":\"https://www.eventbrite.com/d/online/classes/\",\"position\":3},{\"locale\":\"en_US\",\"pk\":637,\"title\":\"Online Yoga\",\"link\":\"https://www.eventbrite.com/d/online/yoga/\",\"position\":4},{\"locale\":\"en_US\",\"pk\":638,\"title\":\"Virtual Runs\",\"link\":\"http://www.eventbrite.com/d/online/virtual-run/\",\"position\":5},{\"locale\":\"en_US\",\"pk\":640,\"title\":\"Online Zumba Classes\",\"link\":\"https://www.eventbrite.com/d/online/zumba-classes/\",\"position\":6},{\"locale\":\"en_US\",\"pk\":639,\"title\":\"Virtual Conferences\",\"link\":\"https://www.eventbrite.com/d/online/conferences/\",\"position\":7},{\"locale\":\"en_US\",\"pk\":641,\"title\":\"Online Seminars\",\"link\":\"https://www.eventbrite.com/d/online/seminars/\",\"position\":8},{\"locale\":\"en_US\",\"pk\":1117,\"title\":\"Online Speed Dating\",\"link\":\"https://www.eventbrite.com/d/online/speed-dating/\",\"position\":9},{\"locale\":\"en_US\",\"pk\":1442,\"title\":\"Virtual Wine Tasting\",\"link\":\"https://www.eventbrite.com/d/online/wine-tasting/\",\"position\":10}],\"popularSearches\":[{\"locale\":\"en_US\",\"pk\":564,\"title\":\"How It Works\",\"link\":\"https://www.eventbrite.com/organizer/overview/\",\"position\":1},{\"locale\":\"en_US\",\"pk\":811,\"title\":\"For Large \\\\u0026 Complex Events\",\"link\":\"https://www.eventbrite.com/organizer/overview/?ref=ebfooter\",\"position\":2},{\"locale\":\"en_US\",\"pk\":565,\"title\":\"Pricing\",\"link\":\"https://www.eventbrite.com/organizer/pricing/\",\"position\":3},{\"locale\":\"en_US\",\"pk\":678,\"title\":\"Content Standards\",\"link\":\"https://www.eventbrite.com/l/contentstandards/\",\"position\":4},{\"locale\":\"en_US\",\"pk\":539,\"title\":\"Eventbrite Mobile Ticket App\",\"link\":\"https://www.eventbrite.com/l/eventbrite-app/\",\"position\":5},{\"locale\":\"en_US\",\"pk\":677,\"title\":\"Eventbrite Check-In App\",\"link\":\"https://www.eventbrite.com/l/Organizer-check-in-app/\",\"position\":6},{\"locale\":\"en_US\",\"pk\":680,\"title\":\"Eventbrite App Marketplace\",\"link\":\"https://www.eventbrite.com/apps/\",\"position\":7},{\"locale\":\"en_US\",\"pk\":682,\"title\":\"COVID-19 (Coronavirus) Resources\",\"link\":\"https://www.eventbrite.com/l/coronavirus-resources-event-organizers/\",\"position\":8},{\"locale\":\"en_US\",\"pk\":818,\"title\":\"FAQs\",\"link\":\"https://www.eventbrite.com/l/frequently-asked-questions/\",\"position\":9},{\"locale\":\"en_US\",\"pk\":683,\"title\":\"Sitemap\",\"link\":\"https://www.eventbrite.com/sitemap/\",\"position\":10}],\"eventsToPlan\":[{\"locale\":\"en_US\",\"pk\":571,\"title\":\"Event Marketing Tools\",\"link\":\"https://www.eventbrite.com/l/event-marketing-tools/\",\"position\":1},{\"locale\":\"en_US\",\"pk\":572,\"title\":\"Virtual Events Platform\",\"link\":\"https://www.eventbrite.com/l/virtual-events-platform/\",\"position\":2},{\"locale\":\"en_US\",\"pk\":573,\"title\":\"Nonprofits \\\\u0026 Fundraisers\",\"link\":\"https://www.eventbrite.com/l/npo/\",\"position\":3},{\"locale\":\"en_US\",\"pk\":575,\"title\":\"Sell Tickets\",\"link\":\"https://www.eventbrite.com/l/sell-tickets/\",\"position\":4},{\"locale\":\"en_US\",\"pk\":578,\"title\":\"Event Management \\\\u0026 Planning\",\"link\":\"https://www.eventbrite.com/l/event-management-software/\",\"position\":5},{\"locale\":\"en_US\",\"pk\":817,\"title\":\"Online Event Registration\",\"link\":\"https://www.eventbrite.com/l/registration-online/\",\"position\":6},{\"locale\":\"en_US\",\"pk\":693,\"title\":\"Online RSVP\",\"link\":\"https://www.eventbrite.com/l/online-rsvp/\",\"position\":7},{\"locale\":\"en_US\",\"pk\":973,\"title\":\"Social Distancing Tools\",\"link\":\"https://www.eventbrite.com/l/event-social-distancing-tools/\",\"position\":8},{\"locale\":\"en_US\",\"pk\":1444,\"title\":\"COVID-19 Safety Playbook for Events\",\"link\":\"https://www.eventbrite.com/l/covid19-event-safety/\",\"position\":9}],\"showMinimalLinks\":false}};\\n            \\n\\n            window.process = {\\n                env: {\\n                    REACT_APP_TARGET: \\'web\\'\\n                }\\n            }\\n\\n\\n        </script>\\n\\n            <script id=\\'spa_app_environment\\' type=\"text/javascript\">\\n        __APP_ENVIRONMENT__ = {\\n            devMode: \"False\",\\n            mediaUrl: \"http://cdn.evbstatic.com/s3-build/\",\\n            appPath: \"https://cdn.evbstatic.com/s3-build/spa/xdev/2.7.11\",\\n            appName: \"xdev\",\\n            appVersion: \"2.7.11\",\\n        }\\n    </script>  \\n\\n\\n        \\n        <script id=\"spa_js_bundle\" type=\"text/javascript\" src=\"https://cdn.evbstatic.com/s3-build/spa/xdev/2.7.11/xdev.web.js\" crossorigin=\"anonymous\"></script>\\n\\n\\n        \\n    </body>\\n</html>\\n\\n\\n'"
      ]
     },
     "execution_count": 14,
     "metadata": {},
     "output_type": "execute_result"
    }
   ],
   "source": [
    "response.content"
   ]
  },
  {
   "cell_type": "code",
   "execution_count": null,
   "id": "green-huntington",
   "metadata": {},
   "outputs": [],
   "source": [
    "<div data-testid=\"tracklist-row\" class=\"e8ea6a219247d88aa936a012f6227b0d-scss bddcb131e9b40fa874148a30368d83f8-scss\" draggable=\"true\"><div class=\"_7c993111016a33a158645119f8a6fb12-scss\" role=\"gridcell\" aria-colindex=\"1\" tabindex=\"-1\"><div class=\"_6b1ff8eab07810e2b7845ffe28430e38-scss\"><span class=\"_99bbcff33ae810da0bfc335662ae2c1d-scss _8a9c5cc886805907de5073b8ebc3acd8-scss\" as=\"span\">43</span><button class=\"_38168f0d5f20e658506cd3e6204c1f9a-scss\" aria-label=\"Reproducir Scared to Be Lonely de Martin Garrix, Dua Lipa\" title=\"Reproducir Scared to Be Lonely de Martin Garrix, Dua Lipa\" tabindex=\"-1\"><svg height=\"32\" role=\"img\" width=\"32\" viewBox=\"0 0 24 24\" class=\"_61eb6013554e346ba715319eaf489008-scss\"><polygon points=\"21.57 12 5.98 3 5.98 21 21.57 12\" fill=\"currentColor\"></polygon></svg></button></div></div><div class=\"_5845794624a406a62eb5b71d3d1c4d63-scss\" role=\"gridcell\" aria-colindex=\"2\" tabindex=\"-1\"><img aria-hidden=\"false\" draggable=\"false\" loading=\"eager\" src=\"https://i.scdn.co/image/ab67616d0000485164f8a309aa3c0a66a31fc374\" alt=\"\" class=\"_64acb0e26fe0d9dff68a0e9725b2a920-scss fc0bebbbc5e1404f464fb4d8c17001dc-scss\" width=\"40\" height=\"40\"><div class=\"_8ea0b892e971e6b90a252247c160b4f4-scss\"><div class=\"da0bc4060bb1bdb4abb8e402916af32e-scss standalone-ellipsis-one-line _8a9c5cc886805907de5073b8ebc3acd8-scss\" dir=\"auto\" as=\"div\"><span><span class=\"\">Scared to Be Lonely</span></span></div><span class=\"_966e29b71d2654743538480947a479b3-scss standalone-ellipsis-one-line f3fc214b257ae2f1d43d4c594a94497f-scss\" as=\"span\" style=\"color: rgb(179, 179, 179);\"><a draggable=\"true\" dir=\"auto\" href=\"/artist/60d24wfXkVzDSfLS6hyCjZ\" tabindex=\"-1\"><span><span class=\"\">Martin Garrix</span></span></a>, <a draggable=\"true\" dir=\"auto\" href=\"/artist/6M2wZ9GZgrQXHCFfjv46we\" tabindex=\"-1\"><span><span class=\"\">Dua Lipa</span></span></a></span></div></div><div class=\"c6287512c50a737d01bd9db32b301fab-scss\" role=\"gridcell\" aria-colindex=\"3\" tabindex=\"-1\"><a draggable=\"true\" class=\"standalone-ellipsis-one-line f3fc214b257ae2f1d43d4c594a94497f-scss\" href=\"/album/2v9rQe4F8fVSh5v8bAq0jF\" tabindex=\"-1\"><span class=\"f3fc214b257ae2f1d43d4c594a94497f-scss\"><span class=\"\">Scared to Be Lonely</span></span></a></div><div class=\"c6287512c50a737d01bd9db32b301fab-scss\" role=\"gridcell\" aria-colindex=\"4\" tabindex=\"-1\"><span class=\"f3fc214b257ae2f1d43d4c594a94497f-scss\" as=\"span\" style=\"color: rgb(179, 179, 179);\">17 may 2017</span></div><div class=\"b9f411c6b990949776c8edf3daeb26ad-scss\" role=\"gridcell\" aria-colindex=\"5\" tabindex=\"-1\"><button type=\"button\" role=\"switch\" aria-checked=\"false\" aria-label=\"Guardar en Tu biblioteca\" class=\"_07bed3a434fa59aa1852a431bf2e19cb-scss d12d20a78fbc13787860287d10063d04-scss\" title=\"Guardar en Tu biblioteca\" tabindex=\"-1\"><svg role=\"img\" height=\"16\" width=\"16\" viewBox=\"0 0 16 16\" class=\"Svg-ulyrgf-0 dIsYZz\"><path d=\"M13.764 2.727a4.057 4.057 0 00-5.488-.253.558.558 0 01-.31.112.531.531 0 01-.311-.112 4.054 4.054 0 00-5.487.253A4.05 4.05 0 00.974 5.61c0 1.089.424 2.113 1.168 2.855l4.462 5.223a1.791 1.791 0 002.726 0l4.435-5.195A4.052 4.052 0 0014.96 5.61a4.057 4.057 0 00-1.196-2.883zm-.722 5.098L8.58 13.048c-.307.36-.921.36-1.228 0L2.864 7.797a3.072 3.072 0 01-.905-2.187c0-.826.321-1.603.905-2.187a3.091 3.091 0 012.191-.913 3.05 3.05 0 011.957.709c.041.036.408.351.954.351.531 0 .906-.31.94-.34a3.075 3.075 0 014.161.192 3.1 3.1 0 01-.025 4.403z\"></path></svg></button><div class=\"ec1b5762556429ac3aeedbae72433491-scss f3fc214b257ae2f1d43d4c594a94497f-scss\" as=\"div\" style=\"color: rgb(179, 179, 179);\">3:40</div><button type=\"button\" aria-haspopup=\"menu\" aria-label=\"Más\" class=\"_605821ce181f6de6632eabd6a46377fb-scss _50a94aaa6bd60a02583729be7f0e4f93-scss\" title=\"Más\" tabindex=\"-1\"><svg role=\"img\" height=\"16\" width=\"16\" viewBox=\"0 0 16 16\" class=\"Svg-ulyrgf-0 dIsYZz\"><path d=\"M2 6.5a1.5 1.5 0 10-.001 2.999A1.5 1.5 0 002 6.5zm6 0a1.5 1.5 0 100 3 1.5 1.5 0 000-3zm6 0a1.5 1.5 0 10-.001 2.999A1.5 1.5 0 0014 6.5z\"></path></svg></button></div></div>"
   ]
  }
 ],
 "metadata": {
  "kernelspec": {
   "display_name": "Python 3",
   "language": "python",
   "name": "python3"
  },
  "language_info": {
   "codemirror_mode": {
    "name": "ipython",
    "version": 3
   },
   "file_extension": ".py",
   "mimetype": "text/x-python",
   "name": "python",
   "nbconvert_exporter": "python",
   "pygments_lexer": "ipython3",
   "version": "3.8.5"
  },
  "toc": {
   "base_numbering": 1,
   "nav_menu": {},
   "number_sections": true,
   "sideBar": true,
   "skip_h1_title": false,
   "title_cell": "Table of Contents",
   "title_sidebar": "Contents",
   "toc_cell": false,
   "toc_position": {},
   "toc_section_display": true,
   "toc_window_display": false
  },
  "varInspector": {
   "cols": {
    "lenName": 16,
    "lenType": 16,
    "lenVar": 40
   },
   "kernels_config": {
    "python": {
     "delete_cmd_postfix": "",
     "delete_cmd_prefix": "del ",
     "library": "var_list.py",
     "varRefreshCmd": "print(var_dic_list())"
    },
    "r": {
     "delete_cmd_postfix": ") ",
     "delete_cmd_prefix": "rm(",
     "library": "var_list.r",
     "varRefreshCmd": "cat(var_dic_list()) "
    }
   },
   "types_to_exclude": [
    "module",
    "function",
    "builtin_function_or_method",
    "instance",
    "_Feature"
   ],
   "window_display": false
  }
 },
 "nbformat": 4,
 "nbformat_minor": 5
}
