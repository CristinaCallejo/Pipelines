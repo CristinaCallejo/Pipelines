{
 "cells": [
  {
   "cell_type": "code",
   "execution_count": 17,
   "id": "musical-concrete",
   "metadata": {},
   "outputs": [],
   "source": [
    "import os\n",
    "import numpy as np\n",
    "import pandas as pd\n",
    "import requests\n",
    "import json\n",
    "from bs4 import BeautifulSoup\n",
    "\n",
    "import seaborn as sns\n",
    "import matplotlib.pyplot as plt\n"
   ]
  },
  {
   "cell_type": "code",
   "execution_count": 18,
   "id": "alpine-emerald",
   "metadata": {},
   "outputs": [],
   "source": [
    "from dotenv import load_dotenv"
   ]
  },
  {
   "cell_type": "code",
   "execution_count": 19,
   "id": "north-stanley",
   "metadata": {},
   "outputs": [
    {
     "data": {
      "text/plain": [
       "True"
      ]
     },
     "execution_count": 19,
     "metadata": {},
     "output_type": "execute_result"
    }
   ],
   "source": [
    "load_dotenv()"
   ]
  },
  {
   "cell_type": "code",
   "execution_count": 20,
   "id": "friendly-grocery",
   "metadata": {},
   "outputs": [],
   "source": [
    "token = os.getenv(\"token\")"
   ]
  },
  {
   "cell_type": "code",
   "execution_count": null,
   "id": "democratic-vanilla",
   "metadata": {},
   "outputs": [],
   "source": [
    "'https://open.spotify.com/playlist/4z0aU3aX74LH6uWHTygTfV'"
   ]
  },
  {
   "cell_type": "code",
   "execution_count": 21,
   "id": "champion-voice",
   "metadata": {},
   "outputs": [],
   "source": [
    "base = \"https://www.eventbriteapi.com\""
   ]
  },
  {
   "cell_type": "code",
   "execution_count": 22,
   "id": "imperial-dominant",
   "metadata": {},
   "outputs": [],
   "source": [
    "auth  = f\"/v3/users/me/?token={token}'\""
   ]
  },
  {
   "cell_type": "code",
   "execution_count": null,
   "id": "false-weight",
   "metadata": {},
   "outputs": [],
   "source": [
    "# {\"Authorization\" : f\"token {api_key}\"}"
   ]
  },
  {
   "cell_type": "code",
   "execution_count": 23,
   "id": "impressed-aggregate",
   "metadata": {},
   "outputs": [],
   "source": [
    "response = requests.get (base,auth)"
   ]
  },
  {
   "cell_type": "code",
   "execution_count": 24,
   "id": "significant-boston",
   "metadata": {
    "scrolled": true
   },
   "outputs": [
    {
     "data": {
      "text/plain": [
       "<Response [200]>"
      ]
     },
     "execution_count": 24,
     "metadata": {},
     "output_type": "execute_result"
    }
   ],
   "source": [
    "response"
   ]
  },
  {
   "cell_type": "code",
   "execution_count": null,
   "id": "chicken-mother",
   "metadata": {},
   "outputs": [],
   "source": [
    "https://api.musixmatch.com/ws/1.1/matcher.lyrics.get?format=jsonp&callback=callback&q_track=ingobernable&q_artist=c.%20tangana&apikey=265605ff8cf183f9a6b3c825282c9ef2"
   ]
  },
  {
   "cell_type": "code",
   "execution_count": 84,
   "id": "activated-archive",
   "metadata": {},
   "outputs": [],
   "source": [
    "apikey = os.getenv(\"tok\")"
   ]
  },
  {
   "cell_type": "code",
   "execution_count": 77,
   "id": "emerging-valuable",
   "metadata": {},
   "outputs": [],
   "source": [
    "urlroot = \"https://api.musixmatch.com/ws/1.1/\""
   ]
  },
  {
   "cell_type": "code",
   "execution_count": 92,
   "id": "cognitive-triangle",
   "metadata": {},
   "outputs": [
    {
     "ename": "NameError",
     "evalue": "name 'song' is not defined",
     "output_type": "error",
     "traceback": [
      "\u001b[0;31m---------------------------------------------------------------------------\u001b[0m",
      "\u001b[0;31mNameError\u001b[0m                                 Traceback (most recent call last)",
      "\u001b[0;32m<ipython-input-92-ad86737d959e>\u001b[0m in \u001b[0;36m<module>\u001b[0;34m\u001b[0m\n\u001b[0;32m----> 1\u001b[0;31m \u001b[0mend\u001b[0m \u001b[0;34m=\u001b[0m \u001b[0;34mf\"matcher.lyrics.get?format=jsonp&callback=callback&q_track={song}&q_artist={artist}\"\u001b[0m\u001b[0;34m\u001b[0m\u001b[0;34m\u001b[0m\u001b[0m\n\u001b[0m",
      "\u001b[0;31mNameError\u001b[0m: name 'song' is not defined"
     ]
    }
   ],
   "source": [
    "end = f\"matcher.lyrics.get?format=jsonp&callback=callback&q_track={song}&q_artist={artist}\""
   ]
  },
  {
   "cell_type": "code",
   "execution_count": 87,
   "id": "piano-commercial",
   "metadata": {},
   "outputs": [],
   "source": [
    "aut = \"&apikey=\""
   ]
  },
  {
   "cell_type": "code",
   "execution_count": 88,
   "id": "daily-tribune",
   "metadata": {},
   "outputs": [],
   "source": [
    "callin = urlroot+end+aut+apikey"
   ]
  },
  {
   "cell_type": "code",
   "execution_count": 89,
   "id": "statistical-phenomenon",
   "metadata": {},
   "outputs": [],
   "source": [
    "res = requests.get(callin)"
   ]
  },
  {
   "cell_type": "code",
   "execution_count": 90,
   "id": "interested-minister",
   "metadata": {},
   "outputs": [
    {
     "data": {
      "text/plain": [
       "<Response [200]>"
      ]
     },
     "execution_count": 90,
     "metadata": {},
     "output_type": "execute_result"
    }
   ],
   "source": [
    "res"
   ]
  },
  {
   "cell_type": "code",
   "execution_count": 91,
   "id": "terminal-tourism",
   "metadata": {},
   "outputs": [
    {
     "data": {
      "text/plain": [
       "b'{\"message\":{\"header\":{\"status_code\":200,\"execute_time\":0.018108129501343},\"body\":{\"lyrics\":{\"lyrics_id\":24514670,\"explicit\":0,\"lyrics_body\":\"Now and then I think of when we were together\\\\nLike when you said you felt so happy you could die\\\\nI told myself that you were right for me\\\\nBut felt so lonely in your company\\\\nBut that was love and it\\'s an ache I still remember\\\\n\\\\nYou can get addicted to a certain kind of sadness\\\\nLike resignation to the end, always the end\\\\nSo when we found that we could not make sense\\\\nWell, you said that we would still be friends\\\\nBut I\\'ll admit that I was glad it was over\\\\n\\\\nBut you didn\\'t have to cut me off\\\\nMake out like it never happened and that we were nothin\\'\\\\nAnd I don\\'t even need your love\\\\nBut you treat me like a stranger and that feels so rough\\\\n\\\\n...\\\\n\\\\n******* This Lyrics is NOT for Commercial use *******\",\"script_tracking_url\":\"https:\\\\/\\\\/tracking.musixmatch.com\\\\/t1.0\\\\/m_js\\\\/e_1\\\\/sn_0\\\\/l_24514670\\\\/su_0\\\\/rs_0\\\\/tr_3vUCACyL5V6pe89AqlvigplyHf0NDMHOeps0d2FP2xRQOFh7jpiDN4oYzsl7p6T21Z4aRChUkzyZHLheuA59RbWmB9cl6_3AK1SNErb08t_L4yOdqmfegdnLD9p-uy6T85LXZwrdLcj2cvVBhh3PJd1C9rMycVjht4CJV6x2p67PRrUCcAImfoJqnon3Mzos2g7tRr-oC5MhSZTuotSsvJHhKtAFXOc3ZzxAhs8iUrdNWWdzX2E7th3jH3fHwasnZEIbWO0yUKLaOw8Az4Hbj_HNeXDo91r05xIhuMrpx8Bsl_8GXNmDvVaOv5esYqmveA7pl8TaDiPwaZ_-_olAU_8BQvzQ9WEhWgWYTs0d34lQuKz6JlexrnL_vcIGlPEfHI74IUI-RGvn5EH1ENDGfR2fxk4t3BHTNPKWVSxWA8xLt6ZZW-z5ZXYLxzLHh5wg\\\\/\",\"pixel_tracking_url\":\"https:\\\\/\\\\/tracking.musixmatch.com\\\\/t1.0\\\\/m_img\\\\/e_1\\\\/sn_0\\\\/l_24514670\\\\/su_0\\\\/rs_0\\\\/tr_3vUCALOXtdGsc6_y6u1pt5xrMkry0UFSN-ZnjNFKbNbsd98m5xkvVIgcMCFqNdvjsYOUJMI9eYrZhsf8rHWg3kRq9T2S6P77y36h5pfd8C2RVqJn8rgM_nToYsz1Ds60JHgSYs_fwXA9ZfcyEBDobUYaQu1HYMTSJA7KkkG2L3hWOJq2vQ5HpSd7kGnRL_ID2p_PobGccOdkhyt5D_GNSWIcu6Bq88bqLg6CTIXW4Cr_WQJRZpHhaRjWndMS3XW3CvoRYamvoWU9dEzmA-nWpuHfRozlfFP2k65h3cY1zX3ufAJ--gQaUiYD_7z8r5h2tDpBJ8avZgX4jExu1sjxBUA4ZLx9o1rT4r9hpKhlAbQBUcTWTVba8cjFF14p3gFrJIhbQGeAjK7ustgq24Kv_YINeVSqDC0FKlR7i26jg41bVYx259tN8MzWpe1KNwP7\\\\/\",\"lyrics_copyright\":\"Lyrics powered by www.musixmatch.com. This Lyrics is NOT for Commercial use and only 30% of the lyrics are returned.\",\"updated_time\":\"2021-02-06T13:34:50Z\"}}}}'"
      ]
     },
     "execution_count": 91,
     "metadata": {},
     "output_type": "execute_result"
    }
   ],
   "source": [
    "res.content"
   ]
  },
  {
   "cell_type": "code",
   "execution_count": 66,
   "id": "regional-experiment",
   "metadata": {},
   "outputs": [],
   "source": [
    "#callin = \"https://api.musixmatch.com/ws/1.1/matcher.track.get?format=json&callback=callback&q_track=hotel%20california&apikey=265605ff8cf183f9a6b3c825282c9ef2\""
   ]
  },
  {
   "cell_type": "code",
   "execution_count": 67,
   "id": "quantitative-greek",
   "metadata": {},
   "outputs": [],
   "source": [
    "res = requests.get(callin)"
   ]
  },
  {
   "cell_type": "code",
   "execution_count": 68,
   "id": "possible-interview",
   "metadata": {},
   "outputs": [
    {
     "data": {
      "text/plain": [
       "<Response [200]>"
      ]
     },
     "execution_count": 68,
     "metadata": {},
     "output_type": "execute_result"
    }
   ],
   "source": [
    "res"
   ]
  },
  {
   "cell_type": "code",
   "execution_count": 69,
   "id": "beneficial-album",
   "metadata": {},
   "outputs": [
    {
     "data": {
      "text/plain": [
       "b'{\"message\":{\"header\":{\"status_code\":200,\"execute_time\":0.004572868347168,\"confidence\":941,\"mode\":\"search\",\"cached\":1},\"body\":{\"track\":{\"track_id\":99326659,\"track_name\":\"Hotel California\",\"track_name_translation_list\":[],\"track_rating\":13,\"commontrack_id\":54800386,\"instrumental\":0,\"explicit\":1,\"has_lyrics\":1,\"has_subtitles\":1,\"has_richsync\":0,\"num_favourite\":36,\"album_id\":21996226,\"album_name\":\"Hotel California - Single\",\"artist_id\":28904420,\"artist_name\":\"Tq\",\"track_share_url\":\"https:\\\\/\\\\/www.musixmatch.com\\\\/lyrics\\\\/TQ-3\\\\/Hotel-California?utm_source=application&utm_campaign=api&utm_medium=\",\"track_edit_url\":\"https:\\\\/\\\\/www.musixmatch.com\\\\/lyrics\\\\/TQ-3\\\\/Hotel-California\\\\/edit?utm_source=application&utm_campaign=api&utm_medium=\",\"restricted\":0,\"updated_time\":\"2019-10-19T00:02:10Z\",\"primary_genres\":{\"music_genre_list\":[]}}}}}'"
      ]
     },
     "execution_count": 69,
     "metadata": {},
     "output_type": "execute_result"
    }
   ],
   "source": [
    "res.content"
   ]
  },
  {
   "cell_type": "code",
   "execution_count": null,
   "id": "loved-storage",
   "metadata": {},
   "outputs": [],
   "source": []
  }
 ],
 "metadata": {
  "kernelspec": {
   "display_name": "Python 3",
   "language": "python",
   "name": "python3"
  },
  "language_info": {
   "codemirror_mode": {
    "name": "ipython",
    "version": 3
   },
   "file_extension": ".py",
   "mimetype": "text/x-python",
   "name": "python",
   "nbconvert_exporter": "python",
   "pygments_lexer": "ipython3",
   "version": "3.8.5"
  },
  "toc": {
   "base_numbering": 1,
   "nav_menu": {},
   "number_sections": true,
   "sideBar": true,
   "skip_h1_title": false,
   "title_cell": "Table of Contents",
   "title_sidebar": "Contents",
   "toc_cell": false,
   "toc_position": {},
   "toc_section_display": true,
   "toc_window_display": false
  },
  "varInspector": {
   "cols": {
    "lenName": 16,
    "lenType": 16,
    "lenVar": 40
   },
   "kernels_config": {
    "python": {
     "delete_cmd_postfix": "",
     "delete_cmd_prefix": "del ",
     "library": "var_list.py",
     "varRefreshCmd": "print(var_dic_list())"
    },
    "r": {
     "delete_cmd_postfix": ") ",
     "delete_cmd_prefix": "rm(",
     "library": "var_list.r",
     "varRefreshCmd": "cat(var_dic_list()) "
    }
   },
   "types_to_exclude": [
    "module",
    "function",
    "builtin_function_or_method",
    "instance",
    "_Feature"
   ],
   "window_display": false
  }
 },
 "nbformat": 4,
 "nbformat_minor": 5
}
