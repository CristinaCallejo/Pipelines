{
 "cells": [
  {
   "cell_type": "code",
   "execution_count": null,
   "id": "simple-vertex",
   "metadata": {},
   "outputs": [],
   "source": [
    "# request structure =  \"https://api.musixmatch.com/ws/1.1/matcher.lyrics.get?format=jsonp&callback=callback&q_track=ingobernable&q_artist=c.%20tangana&apikey=\"+f\"{apikey}\""
   ]
  },
  {
   "cell_type": "code",
   "execution_count": null,
   "id": "egyptian-madness",
   "metadata": {},
   "outputs": [],
   "source": [
    "import requests\n",
    "import json\n",
    "import pandas as pd\n",
    "import os\n",
    "import sys \n",
    "\n",
    "from bs4 import BeautifulSoup\n",
    "from pandas import json_normalize\n",
    "from dotenv import load_dotenv\n",
    "load_dotenv()\n",
    "\n",
    "# tok --> Musixmatch\n",
    "'''\n",
    "apikey = os.getenv(\"tok\")\n",
    "callin = urlroot+end+aut+apikey\n",
    "song = \"q_track=\"+datas.song[0]\n",
    "artist = \"&q_artist=\"+datas.artist[0]\n",
    "urlroot = \"https://api.musixmatch.com/ws/1.1/matcher.lyrics.get?format=json&callback=callback&\"\n",
    "aut = f\"&apikey={apikey}\"\n",
    "\n",
    "calling = urlroot+song+artist+aut\n",
    "\n",
    "response = requests.get(calling)\n",
    "type(response.content)\n",
    "res = response.json()\n",
    "\n",
    "lyrics = res[\"message\"][\"body\"][\"lyrics\"][\"lyrics_body\"]\n",
    "\n",
    "print(lyrics)\n",
    "\n",
    "\n",
    "'''\n",
    "\n",
    "# token --> Eventbrite\n",
    "'''\n",
    "# token --> Eventbrite\n",
    "base = \"https://www.eventbriteapi.com\"\n",
    "auth  = f\"/v3/users/me/?token={token}'\"\n",
    "response = requests.get (base,auth)\n",
    "callin = urlroot+end+aut+apikey\n",
    "\n",
    "'''"
   ]
  },
  {
   "cell_type": "code",
   "execution_count": null,
   "id": "forced-cosmetic",
   "metadata": {},
   "outputs": [],
   "source": [
    "apikey = os.getenv(\"tok\")"
   ]
  },
  {
   "cell_type": "code",
   "execution_count": null,
   "id": "saving-variation",
   "metadata": {},
   "outputs": [],
   "source": [
    "song = \"q_track=\"+datas.song[0]"
   ]
  },
  {
   "cell_type": "code",
   "execution_count": null,
   "id": "imperial-exercise",
   "metadata": {},
   "outputs": [],
   "source": [
    "artist = \"&q_artist=\"+datas.artist[0]"
   ]
  },
  {
   "cell_type": "code",
   "execution_count": null,
   "id": "possible-wilderness",
   "metadata": {},
   "outputs": [],
   "source": [
    "urlroot = \"https://api.musixmatch.com/ws/1.1/matcher.lyrics.get?format=json&callback=callback&\""
   ]
  },
  {
   "cell_type": "code",
   "execution_count": null,
   "id": "pregnant-sword",
   "metadata": {},
   "outputs": [],
   "source": [
    "aut = f\"&apikey={apikey}\""
   ]
  },
  {
   "cell_type": "code",
   "execution_count": null,
   "id": "tired-lighter",
   "metadata": {},
   "outputs": [],
   "source": [
    "calling = urlroot+song+artist+aut"
   ]
  },
  {
   "cell_type": "code",
   "execution_count": null,
   "id": "electoral-celebration",
   "metadata": {},
   "outputs": [],
   "source": [
    "response = requests.get(calling)"
   ]
  },
  {
   "cell_type": "code",
   "execution_count": null,
   "id": "discrete-bangkok",
   "metadata": {},
   "outputs": [],
   "source": [
    "response"
   ]
  },
  {
   "cell_type": "code",
   "execution_count": null,
   "id": "graduate-fruit",
   "metadata": {},
   "outputs": [],
   "source": [
    "type(response.content)"
   ]
  },
  {
   "cell_type": "code",
   "execution_count": null,
   "id": "accepted-introduction",
   "metadata": {},
   "outputs": [],
   "source": [
    "res = response.json()"
   ]
  },
  {
   "cell_type": "code",
   "execution_count": null,
   "id": "visible-indian",
   "metadata": {},
   "outputs": [],
   "source": [
    "lyrics = res[\"message\"][\"body\"][\"lyrics\"][\"lyrics_body\"]"
   ]
  },
  {
   "cell_type": "code",
   "execution_count": null,
   "id": "declared-benjamin",
   "metadata": {},
   "outputs": [],
   "source": [
    "print(lyrics)"
   ]
  },
  {
   "cell_type": "code",
   "execution_count": null,
   "id": "residential-assets",
   "metadata": {},
   "outputs": [],
   "source": []
  },
  {
   "cell_type": "code",
   "execution_count": null,
   "id": "delayed-norfolk",
   "metadata": {},
   "outputs": [],
   "source": [
    "datas[\"hit\"] = datas.song+\",\"+datas.artist"
   ]
  }
 ],
 "metadata": {
  "kernelspec": {
   "display_name": "Python 3",
   "language": "python",
   "name": "python3"
  },
  "language_info": {
   "codemirror_mode": {
    "name": "ipython",
    "version": 3
   },
   "file_extension": ".py",
   "mimetype": "text/x-python",
   "name": "python",
   "nbconvert_exporter": "python",
   "pygments_lexer": "ipython3",
   "version": "3.8.5"
  },
  "toc": {
   "base_numbering": 1,
   "nav_menu": {},
   "number_sections": true,
   "sideBar": true,
   "skip_h1_title": false,
   "title_cell": "Table of Contents",
   "title_sidebar": "Contents",
   "toc_cell": false,
   "toc_position": {},
   "toc_section_display": true,
   "toc_window_display": false
  },
  "varInspector": {
   "cols": {
    "lenName": 16,
    "lenType": 16,
    "lenVar": 40
   },
   "kernels_config": {
    "python": {
     "delete_cmd_postfix": "",
     "delete_cmd_prefix": "del ",
     "library": "var_list.py",
     "varRefreshCmd": "print(var_dic_list())"
    },
    "r": {
     "delete_cmd_postfix": ") ",
     "delete_cmd_prefix": "rm(",
     "library": "var_list.r",
     "varRefreshCmd": "cat(var_dic_list()) "
    }
   },
   "types_to_exclude": [
    "module",
    "function",
    "builtin_function_or_method",
    "instance",
    "_Feature"
   ],
   "window_display": false
  }
 },
 "nbformat": 4,
 "nbformat_minor": 5
}
