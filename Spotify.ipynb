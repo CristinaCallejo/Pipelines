{
 "cells": [
  {
   "cell_type": "code",
   "execution_count": 1,
   "id": "loaded-devil",
   "metadata": {},
   "outputs": [],
   "source": [
    "# Spotify: 2021-03-05\n",
    "# https://www.spotifycharts.com/regional/es/weekly/2021-02-26--2021-03-05\""
   ]
  },
  {
   "cell_type": "code",
   "execution_count": 2,
   "id": "focal-probe",
   "metadata": {},
   "outputs": [
    {
     "name": "stdout",
     "output_type": "stream",
     "text": [
      "Success: import, cleaning, lowercase! Showing first 5 rows for your reference:     rank                     song       artist\n",
      "0     1  ella no es tuya - remix     rochy rd\n",
      "1     2             ingobernable   c. tangana\n",
      "2     3          párteme la cara   c. tangana\n",
      "3     4                  bandido  myke towers\n",
      "4     5  tú me dejaste de querer   c. tangana\n",
      "Success: export as new .csv. Now importing first 5 rows from new file to check flow and format: \n",
      "   rank                     song       artist\n",
      "0     1  ella no es tuya - remix     rochy rd\n",
      "1     2             ingobernable   c. tangana\n",
      "2     3          párteme la cara   c. tangana\n",
      "3     4                  bandido  myke towers\n",
      "4     5  tú me dejaste de querer   c. tangana\n",
      "Success! File exported correctly to:  ./data_processed/v1regional_sp_2021_03_05.csv\n"
     ]
    }
   ],
   "source": [
    "import pandas as pd\n",
    "import sys\n",
    "import src.code1_data_exploration as f1\n",
    "\n",
    "dir_incoming = \"./data_inputs/\"\n",
    "dir_outgoing = \"./data_processed/\"\n",
    "st = \"regional_sp_2021_03_05.csv\"\n",
    "dropping_lst = [\"streams\",\"url\"]\n",
    "renamed_lst = [\"rank\",\"song\",\"artist\"]\n",
    "lowering_lst = [\"song\",\"artist\"]\n",
    "\n",
    "datas = f1.import_csv_and_clean_and_lowercase_and_export(\n",
    "    dir_incoming,\n",
    "    dir_outgoing,\n",
    "    st,\n",
    "    dropping_lst,\n",
    "    renamed_lst,\n",
    "    lowering_lst\n",
    ")"
   ]
  }
 ],
 "metadata": {
  "kernelspec": {
   "display_name": "Python 3",
   "language": "python",
   "name": "python3"
  },
  "language_info": {
   "codemirror_mode": {
    "name": "ipython",
    "version": 3
   },
   "file_extension": ".py",
   "mimetype": "text/x-python",
   "name": "python",
   "nbconvert_exporter": "python",
   "pygments_lexer": "ipython3",
   "version": "3.8.5"
  },
  "toc": {
   "base_numbering": 1,
   "nav_menu": {},
   "number_sections": true,
   "sideBar": true,
   "skip_h1_title": false,
   "title_cell": "Table of Contents",
   "title_sidebar": "Contents",
   "toc_cell": false,
   "toc_position": {},
   "toc_section_display": true,
   "toc_window_display": false
  },
  "varInspector": {
   "cols": {
    "lenName": 16,
    "lenType": 16,
    "lenVar": 40
   },
   "kernels_config": {
    "python": {
     "delete_cmd_postfix": "",
     "delete_cmd_prefix": "del ",
     "library": "var_list.py",
     "varRefreshCmd": "print(var_dic_list())"
    },
    "r": {
     "delete_cmd_postfix": ") ",
     "delete_cmd_prefix": "rm(",
     "library": "var_list.r",
     "varRefreshCmd": "cat(var_dic_list()) "
    }
   },
   "types_to_exclude": [
    "module",
    "function",
    "builtin_function_or_method",
    "instance",
    "_Feature"
   ],
   "window_display": false
  }
 },
 "nbformat": 4,
 "nbformat_minor": 5
}
