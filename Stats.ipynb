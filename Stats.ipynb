{
 "cells": [
  {
   "cell_type": "code",
   "execution_count": null,
   "id": "younger-jason",
   "metadata": {},
   "outputs": [],
   "source": [
    "import os\n",
    "import sys\n",
    "import numpy as np\n",
    "import pandas as pd\n",
    "import requests\n",
    "import json\n",
    "from bs4 import BeautifulSoup\n",
    "\n",
    "import seaborn as sns\n",
    "import matplotlib.pyplot as plt"
   ]
  },
  {
   "cell_type": "code",
   "execution_count": null,
   "id": "chubby-guatemala",
   "metadata": {},
   "outputs": [],
   "source": [
    "datas.loc[datas[\"artist\"]==\"C. Tangana\"]"
   ]
  },
  {
   "cell_type": "code",
   "execution_count": null,
   "id": "interracial-checklist",
   "metadata": {},
   "outputs": [],
   "source": [
    "datas.loc[datas[\"artist\"]==\"Camilo\"]"
   ]
  },
  {
   "cell_type": "code",
   "execution_count": null,
   "id": "alternative-contributor",
   "metadata": {},
   "outputs": [],
   "source": [
    "datas.loc[datas[\"rank\"]==1]"
   ]
  },
  {
   "cell_type": "code",
   "execution_count": null,
   "id": "wireless-submission",
   "metadata": {},
   "outputs": [],
   "source": []
  },
  {
   "cell_type": "code",
   "execution_count": 2,
   "id": "contained-establishment",
   "metadata": {},
   "outputs": [
    {
     "data": {
      "text/plain": [
       "'\\ndef cool():\\n    url = input(\"Please type a url: \")\\n    user = url.split(\\'/\\')[-2]\\n    dataset = url.split(\\'/\\')[-1]\\n    print(user)\\n    print(dataset)\\n    \\n    to_download = f\"kaggle datasets download -d {user}/{dataset}\"\\n    to_decompress = f\"tar -xzvf {dataset}.zip\"\\n    to_delete = f\"rm -rf {dataset}.zip\"\\n    make_dir = \"mkdir data_inputs\"\\n    \\n    for i in [to_download, to_decompress, to_delete, make_dir]:\\n        os.system(i)\\n    \\n    os.system(\"mv *.csv ./data_inputs\")\\n    \\n    winner = os.system(\"say -v Monica \\'downloading\\'\")\\n    folder_opening = os.system(\"open .\")\\n    \\n    return folder_opening\\n'"
      ]
     },
     "execution_count": 2,
     "metadata": {},
     "output_type": "execute_result"
    }
   ],
   "source": [
    "'''\n",
    "def cool():\n",
    "    url = input(\"Please type a url: \")\n",
    "    user = url.split('/')[-2]\n",
    "    dataset = url.split('/')[-1]\n",
    "    print(user)\n",
    "    print(dataset)\n",
    "    \n",
    "    to_download = f\"kaggle datasets download -d {user}/{dataset}\"\n",
    "    to_decompress = f\"tar -xzvf {dataset}.zip\"\n",
    "    to_delete = f\"rm -rf {dataset}.zip\"\n",
    "    make_dir = \"mkdir data_inputs\"\n",
    "    \n",
    "    for i in [to_download, to_decompress, to_delete, make_dir]:\n",
    "        os.system(i)\n",
    "    \n",
    "    os.system(\"mv *.csv ./data_inputs\")\n",
    "    \n",
    "    winner = os.system(\"say -v Monica 'downloading'\")\n",
    "    folder_opening = os.system(\"open .\")\n",
    "    \n",
    "    return folder_opening\n",
    "'''\n",
    "    "
   ]
  },
  {
   "cell_type": "code",
   "execution_count": null,
   "id": "curious-great",
   "metadata": {},
   "outputs": [],
   "source": []
  }
 ],
 "metadata": {
  "kernelspec": {
   "display_name": "Python 3",
   "language": "python",
   "name": "python3"
  },
  "language_info": {
   "codemirror_mode": {
    "name": "ipython",
    "version": 3
   },
   "file_extension": ".py",
   "mimetype": "text/x-python",
   "name": "python",
   "nbconvert_exporter": "python",
   "pygments_lexer": "ipython3",
   "version": "3.8.5"
  },
  "toc": {
   "base_numbering": 1,
   "nav_menu": {},
   "number_sections": true,
   "sideBar": true,
   "skip_h1_title": false,
   "title_cell": "Table of Contents",
   "title_sidebar": "Contents",
   "toc_cell": false,
   "toc_position": {},
   "toc_section_display": true,
   "toc_window_display": false
  },
  "varInspector": {
   "cols": {
    "lenName": 16,
    "lenType": 16,
    "lenVar": 40
   },
   "kernels_config": {
    "python": {
     "delete_cmd_postfix": "",
     "delete_cmd_prefix": "del ",
     "library": "var_list.py",
     "varRefreshCmd": "print(var_dic_list())"
    },
    "r": {
     "delete_cmd_postfix": ") ",
     "delete_cmd_prefix": "rm(",
     "library": "var_list.r",
     "varRefreshCmd": "cat(var_dic_list()) "
    }
   },
   "types_to_exclude": [
    "module",
    "function",
    "builtin_function_or_method",
    "instance",
    "_Feature"
   ],
   "window_display": false
  }
 },
 "nbformat": 4,
 "nbformat_minor": 5
}
