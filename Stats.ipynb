{
 "cells": [
  {
   "cell_type": "code",
   "execution_count": 1,
   "id": "bronze-wonder",
   "metadata": {},
   "outputs": [],
   "source": [
    "import sys\n",
    "import numpy as np\n",
    "import pandas as pd\n",
    "import statistics as stats\n",
    "import src.code3_statistical_analysis as f3\n",
    "\n",
    "import seaborn as sns\n",
    "import matplotlib.pyplot as plt"
   ]
  },
  {
   "cell_type": "code",
   "execution_count": 2,
   "id": "varying-lemon",
   "metadata": {},
   "outputs": [],
   "source": [
    "dir_incoming= \"./data_processed/\"\n",
    "st = \"v2regional_sp_2021_03_05.csv\"\n",
    "st2 = \"v2charts.csv\"\n"
   ]
  },
  {
   "cell_type": "code",
   "execution_count": 3,
   "id": "connected-asthma",
   "metadata": {},
   "outputs": [
    {
     "name": "stdout",
     "output_type": "stream",
     "text": [
      "Initializing process for:  v2regional_sp_2021_03_05.csv from:  ./data_processed/\n",
      "Step 1 of 1: import, SUCCESSFULL\n",
      "Ended process: imported  v2regional_sp_2021_03_05.csv\n"
     ]
    }
   ],
   "source": [
    "dfs = f3.import_csv(dir_incoming,st)"
   ]
  },
  {
   "cell_type": "code",
   "execution_count": 4,
   "id": "adjacent-shaft",
   "metadata": {},
   "outputs": [
    {
     "name": "stdout",
     "output_type": "stream",
     "text": [
      "Initializing process for:  v2charts.csv from:  ./data_processed/\n",
      "Step 1 of 1: import, SUCCESSFULL\n",
      "Ended process: imported  v2charts.csv\n"
     ]
    }
   ],
   "source": [
    "dfb = f3.import_csv(dir_incoming,st2)"
   ]
  },
  {
   "cell_type": "code",
   "execution_count": null,
   "id": "handled-signal",
   "metadata": {},
   "outputs": [],
   "source": []
  },
  {
   "cell_type": "code",
   "execution_count": 18,
   "id": "hazardous-making",
   "metadata": {},
   "outputs": [],
   "source": [
    "frst = dfs.lyrics[0]"
   ]
  },
  {
   "cell_type": "code",
   "execution_count": 20,
   "id": "accompanied-prison",
   "metadata": {},
   "outputs": [
    {
     "data": {
      "text/plain": [
       "str"
      ]
     },
     "execution_count": 20,
     "metadata": {},
     "output_type": "execute_result"
    }
   ],
   "source": [
    "type(frst)"
   ]
  },
  {
   "cell_type": "code",
   "execution_count": null,
   "id": "stretch-inquiry",
   "metadata": {},
   "outputs": [],
   "source": []
  },
  {
   "cell_type": "code",
   "execution_count": null,
   "id": "frank-lesson",
   "metadata": {},
   "outputs": [],
   "source": []
  },
  {
   "cell_type": "code",
   "execution_count": 2,
   "id": "expired-nitrogen",
   "metadata": {},
   "outputs": [
    {
     "ename": "NameError",
     "evalue": "name 'datas' is not defined",
     "output_type": "error",
     "traceback": [
      "\u001b[0;31m---------------------------------------------------------------------------\u001b[0m",
      "\u001b[0;31mNameError\u001b[0m                                 Traceback (most recent call last)",
      "\u001b[0;32m<ipython-input-2-b43b4eabf48f>\u001b[0m in \u001b[0;36m<module>\u001b[0;34m\u001b[0m\n\u001b[0;32m----> 1\u001b[0;31m \u001b[0mdatas\u001b[0m\u001b[0;34m[\u001b[0m\u001b[0;34m\"hit\"\u001b[0m\u001b[0;34m]\u001b[0m \u001b[0;34m=\u001b[0m \u001b[0mdatas\u001b[0m\u001b[0;34m.\u001b[0m\u001b[0msong\u001b[0m\u001b[0;34m+\u001b[0m\u001b[0;34m\",\"\u001b[0m\u001b[0;34m+\u001b[0m\u001b[0mdatas\u001b[0m\u001b[0;34m.\u001b[0m\u001b[0martist\u001b[0m\u001b[0;34m\u001b[0m\u001b[0;34m\u001b[0m\u001b[0m\n\u001b[0m",
      "\u001b[0;31mNameError\u001b[0m: name 'datas' is not defined"
     ]
    }
   ],
   "source": [
    "datas[\"hit\"] = datas.song+\",\"+datas.artist"
   ]
  },
  {
   "cell_type": "code",
   "execution_count": null,
   "id": "chubby-guatemala",
   "metadata": {},
   "outputs": [],
   "source": [
    "datas.loc[datas[\"artist\"]==\"c. tangana\"]"
   ]
  },
  {
   "cell_type": "code",
   "execution_count": null,
   "id": "interracial-checklist",
   "metadata": {},
   "outputs": [],
   "source": [
    "datas.loc[datas[\"artist\"]==\"camilo\"]"
   ]
  },
  {
   "cell_type": "code",
   "execution_count": null,
   "id": "alternative-contributor",
   "metadata": {},
   "outputs": [],
   "source": [
    "datas.loc[datas[\"rank\"]==1]"
   ]
  },
  {
   "cell_type": "code",
   "execution_count": null,
   "id": "wireless-submission",
   "metadata": {},
   "outputs": [],
   "source": []
  },
  {
   "cell_type": "code",
   "execution_count": null,
   "id": "curious-great",
   "metadata": {},
   "outputs": [],
   "source": []
  }
 ],
 "metadata": {
  "kernelspec": {
   "display_name": "Python 3",
   "language": "python",
   "name": "python3"
  },
  "language_info": {
   "codemirror_mode": {
    "name": "ipython",
    "version": 3
   },
   "file_extension": ".py",
   "mimetype": "text/x-python",
   "name": "python",
   "nbconvert_exporter": "python",
   "pygments_lexer": "ipython3",
   "version": "3.8.5"
  },
  "toc": {
   "base_numbering": 1,
   "nav_menu": {},
   "number_sections": true,
   "sideBar": true,
   "skip_h1_title": false,
   "title_cell": "Table of Contents",
   "title_sidebar": "Contents",
   "toc_cell": false,
   "toc_position": {},
   "toc_section_display": true,
   "toc_window_display": false
  },
  "varInspector": {
   "cols": {
    "lenName": 16,
    "lenType": 16,
    "lenVar": 40
   },
   "kernels_config": {
    "python": {
     "delete_cmd_postfix": "",
     "delete_cmd_prefix": "del ",
     "library": "var_list.py",
     "varRefreshCmd": "print(var_dic_list())"
    },
    "r": {
     "delete_cmd_postfix": ") ",
     "delete_cmd_prefix": "rm(",
     "library": "var_list.r",
     "varRefreshCmd": "cat(var_dic_list()) "
    }
   },
   "types_to_exclude": [
    "module",
    "function",
    "builtin_function_or_method",
    "instance",
    "_Feature"
   ],
   "window_display": false
  }
 },
 "nbformat": 4,
 "nbformat_minor": 5
}
