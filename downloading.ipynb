{
 "cells": [
  {
   "cell_type": "code",
   "execution_count": 2,
   "id": "electoral-samuel",
   "metadata": {},
   "outputs": [],
   "source": [
    "import pandas as pd\n",
    "import requests\n",
    "import json\n",
    "from bs4 import BeautifulSoup\n",
    "\n",
    "from pandas import json_normalize\n",
    "import os\n",
    "from dotenv import load_dotenv"
   ]
  },
  {
   "cell_type": "code",
   "execution_count": 3,
   "id": "ambient-stockholm",
   "metadata": {},
   "outputs": [
    {
     "data": {
      "text/plain": [
       "True"
      ]
     },
     "execution_count": 3,
     "metadata": {},
     "output_type": "execute_result"
    }
   ],
   "source": [
    "load_dotenv()"
   ]
  },
  {
   "cell_type": "code",
   "execution_count": null,
   "id": "respected-interaction",
   "metadata": {},
   "outputs": [],
   "source": [
    "# Billboard: 2021-03-06\n",
    "# Spotify: 2021-03-05"
   ]
  },
  {
   "cell_type": "code",
   "execution_count": null,
   "id": "british-share",
   "metadata": {},
   "outputs": [],
   "source": [
    "data_billboard = pd.read_csv(\"./data_inputs/charts.csv\")"
   ]
  },
  {
   "cell_type": "code",
   "execution_count": null,
   "id": "sound-copying",
   "metadata": {
    "scrolled": true
   },
   "outputs": [],
   "source": [
    "datab_selected = data_billboard[data_billboard.date ==\"2021-03-06\"]"
   ]
  },
  {
   "cell_type": "code",
   "execution_count": null,
   "id": "through-termination",
   "metadata": {},
   "outputs": [],
   "source": [
    "datab= datab_selected.copy()"
   ]
  },
  {
   "cell_type": "code",
   "execution_count": null,
   "id": "mineral-launch",
   "metadata": {
    "scrolled": true
   },
   "outputs": [],
   "source": [
    "datab.drop([\"date\",\"last-week\",\"peak-rank\",\"weeks-on-board\"],axis = 1,inplace=True)"
   ]
  },
  {
   "cell_type": "code",
   "execution_count": null,
   "id": "strong-nigeria",
   "metadata": {},
   "outputs": [],
   "source": [
    "datab.reset_index(drop=True,inplace=True)"
   ]
  },
  {
   "cell_type": "code",
   "execution_count": null,
   "id": "stone-grove",
   "metadata": {},
   "outputs": [],
   "source": [
    "datab.shape"
   ]
  },
  {
   "cell_type": "code",
   "execution_count": null,
   "id": "english-chicken",
   "metadata": {},
   "outputs": [],
   "source": [
    "datab.artist.value_counts()"
   ]
  },
  {
   "cell_type": "code",
   "execution_count": null,
   "id": "spectacular-collar",
   "metadata": {},
   "outputs": [],
   "source": []
  },
  {
   "cell_type": "code",
   "execution_count": null,
   "id": "female-impossible",
   "metadata": {},
   "outputs": [],
   "source": []
  },
  {
   "cell_type": "code",
   "execution_count": null,
   "id": "amateur-snapshot",
   "metadata": {},
   "outputs": [],
   "source": []
  },
  {
   "cell_type": "code",
   "execution_count": null,
   "id": "right-batman",
   "metadata": {},
   "outputs": [],
   "source": []
  },
  {
   "cell_type": "code",
   "execution_count": null,
   "id": "mobile-processor",
   "metadata": {},
   "outputs": [],
   "source": []
  },
  {
   "cell_type": "code",
   "execution_count": 4,
   "id": "consistent-carroll",
   "metadata": {},
   "outputs": [],
   "source": [
    "data_spotify = pd.read_csv(\"./data_inputs/regional_sp_2021_03_05.csv\")"
   ]
  },
  {
   "cell_type": "code",
   "execution_count": 5,
   "id": "ethical-adventure",
   "metadata": {},
   "outputs": [],
   "source": [
    "datas_selected = data_spotify[:100]"
   ]
  },
  {
   "cell_type": "code",
   "execution_count": 6,
   "id": "distinct-potato",
   "metadata": {},
   "outputs": [],
   "source": [
    "datas= datas_selected.copy()"
   ]
  },
  {
   "cell_type": "code",
   "execution_count": 7,
   "id": "tribal-taylor",
   "metadata": {},
   "outputs": [],
   "source": [
    "datas.drop([\"streams\",\"url\"],axis = 1,inplace=True)"
   ]
  },
  {
   "cell_type": "code",
   "execution_count": 8,
   "id": "individual-illness",
   "metadata": {},
   "outputs": [],
   "source": [
    "datas.reset_index(drop=True,inplace=True)"
   ]
  },
  {
   "cell_type": "code",
   "execution_count": 9,
   "id": "obvious-composer",
   "metadata": {},
   "outputs": [],
   "source": [
    "datas.columns = [\"rank\",\"song\",\"artist\"]"
   ]
  },
  {
   "cell_type": "code",
   "execution_count": 10,
   "id": "forbidden-transmission",
   "metadata": {},
   "outputs": [
    {
     "data": {
      "text/plain": [
       "(100, 3)"
      ]
     },
     "execution_count": 10,
     "metadata": {},
     "output_type": "execute_result"
    }
   ],
   "source": [
    "datas.shape"
   ]
  },
  {
   "cell_type": "code",
   "execution_count": 11,
   "id": "governmental-lloyd",
   "metadata": {},
   "outputs": [
    {
     "data": {
      "text/html": [
       "<div>\n",
       "<style scoped>\n",
       "    .dataframe tbody tr th:only-of-type {\n",
       "        vertical-align: middle;\n",
       "    }\n",
       "\n",
       "    .dataframe tbody tr th {\n",
       "        vertical-align: top;\n",
       "    }\n",
       "\n",
       "    .dataframe thead th {\n",
       "        text-align: right;\n",
       "    }\n",
       "</style>\n",
       "<table border=\"1\" class=\"dataframe\">\n",
       "  <thead>\n",
       "    <tr style=\"text-align: right;\">\n",
       "      <th></th>\n",
       "      <th>rank</th>\n",
       "      <th>song</th>\n",
       "      <th>artist</th>\n",
       "    </tr>\n",
       "  </thead>\n",
       "  <tbody>\n",
       "    <tr>\n",
       "      <th>0</th>\n",
       "      <td>1</td>\n",
       "      <td>Ella No Es Tuya - Remix</td>\n",
       "      <td>Rochy RD</td>\n",
       "    </tr>\n",
       "    <tr>\n",
       "      <th>1</th>\n",
       "      <td>2</td>\n",
       "      <td>Ingobernable</td>\n",
       "      <td>C. Tangana</td>\n",
       "    </tr>\n",
       "    <tr>\n",
       "      <th>2</th>\n",
       "      <td>3</td>\n",
       "      <td>Párteme La Cara</td>\n",
       "      <td>C. Tangana</td>\n",
       "    </tr>\n",
       "    <tr>\n",
       "      <th>3</th>\n",
       "      <td>4</td>\n",
       "      <td>Bandido</td>\n",
       "      <td>Myke Towers</td>\n",
       "    </tr>\n",
       "    <tr>\n",
       "      <th>4</th>\n",
       "      <td>5</td>\n",
       "      <td>Tú Me Dejaste De Querer</td>\n",
       "      <td>C. Tangana</td>\n",
       "    </tr>\n",
       "    <tr>\n",
       "      <th>...</th>\n",
       "      <td>...</td>\n",
       "      <td>...</td>\n",
       "      <td>...</td>\n",
       "    </tr>\n",
       "    <tr>\n",
       "      <th>95</th>\n",
       "      <td>96</td>\n",
       "      <td>Como Estrellas</td>\n",
       "      <td>LA YOUNG</td>\n",
       "    </tr>\n",
       "    <tr>\n",
       "      <th>96</th>\n",
       "      <td>97</td>\n",
       "      <td>Watermelon Sugar</td>\n",
       "      <td>Harry Styles</td>\n",
       "    </tr>\n",
       "    <tr>\n",
       "      <th>97</th>\n",
       "      <td>98</td>\n",
       "      <td>Oh Mama - Premium</td>\n",
       "      <td>Farruko</td>\n",
       "    </tr>\n",
       "    <tr>\n",
       "      <th>98</th>\n",
       "      <td>99</td>\n",
       "      <td>Si Tú La Quieres</td>\n",
       "      <td>David Bisbal</td>\n",
       "    </tr>\n",
       "    <tr>\n",
       "      <th>99</th>\n",
       "      <td>100</td>\n",
       "      <td>Head &amp; Heart (feat. MNEK)</td>\n",
       "      <td>Joel Corry</td>\n",
       "    </tr>\n",
       "  </tbody>\n",
       "</table>\n",
       "<p>100 rows × 3 columns</p>\n",
       "</div>"
      ],
      "text/plain": [
       "    rank                       song        artist\n",
       "0      1    Ella No Es Tuya - Remix      Rochy RD\n",
       "1      2               Ingobernable    C. Tangana\n",
       "2      3            Párteme La Cara    C. Tangana\n",
       "3      4                    Bandido   Myke Towers\n",
       "4      5    Tú Me Dejaste De Querer    C. Tangana\n",
       "..   ...                        ...           ...\n",
       "95    96             Como Estrellas      LA YOUNG\n",
       "96    97           Watermelon Sugar  Harry Styles\n",
       "97    98          Oh Mama - Premium       Farruko\n",
       "98    99           Si Tú La Quieres  David Bisbal\n",
       "99   100  Head & Heart (feat. MNEK)    Joel Corry\n",
       "\n",
       "[100 rows x 3 columns]"
      ]
     },
     "execution_count": 11,
     "metadata": {},
     "output_type": "execute_result"
    }
   ],
   "source": [
    "datas"
   ]
  },
  {
   "cell_type": "code",
   "execution_count": 12,
   "id": "aquatic-mount",
   "metadata": {},
   "outputs": [],
   "source": [
    "# request structure: https://api.musixmatch.com/ws/1.1/matcher.lyrics.get?format=jsonp&callback=callback&q_track=ingobernable&q_artist=c.%20tangana&apikey=265605ff8cf183f9a6b3c825282c9ef2"
   ]
  },
  {
   "cell_type": "code",
   "execution_count": 13,
   "id": "unknown-marriage",
   "metadata": {},
   "outputs": [],
   "source": [
    "apikey = os.getenv(\"tok\")"
   ]
  },
  {
   "cell_type": "code",
   "execution_count": 14,
   "id": "enormous-description",
   "metadata": {},
   "outputs": [
    {
     "data": {
      "text/plain": [
       "True"
      ]
     },
     "execution_count": 14,
     "metadata": {},
     "output_type": "execute_result"
    }
   ],
   "source": [
    "load_dotenv()"
   ]
  },
  {
   "cell_type": "code",
   "execution_count": 30,
   "id": "african-hydrogen",
   "metadata": {},
   "outputs": [
    {
     "ename": "AttributeError",
     "evalue": "'Series' object has no attribute 'lower'",
     "output_type": "error",
     "traceback": [
      "\u001b[0;31m---------------------------------------------------------------------------\u001b[0m",
      "\u001b[0;31mAttributeError\u001b[0m                            Traceback (most recent call last)",
      "\u001b[0;32m<ipython-input-30-939598c1d96f>\u001b[0m in \u001b[0;36m<module>\u001b[0;34m\u001b[0m\n\u001b[0;32m----> 1\u001b[0;31m \u001b[0mdatas\u001b[0m\u001b[0;34m.\u001b[0m\u001b[0msong\u001b[0m \u001b[0;34m=\u001b[0m \u001b[0mdatas\u001b[0m\u001b[0;34m.\u001b[0m\u001b[0msong\u001b[0m\u001b[0;34m.\u001b[0m\u001b[0mapply\u001b[0m\u001b[0;34m(\u001b[0m\u001b[0mdatas\u001b[0m\u001b[0;34m.\u001b[0m\u001b[0msong\u001b[0m\u001b[0;34m.\u001b[0m\u001b[0mlower\u001b[0m\u001b[0;34m)\u001b[0m\u001b[0;34m\u001b[0m\u001b[0;34m\u001b[0m\u001b[0m\n\u001b[0m",
      "\u001b[0;32m/usr/local/Caskroom/miniconda/base/envs/ironhack/lib/python3.8/site-packages/pandas/core/generic.py\u001b[0m in \u001b[0;36m__getattr__\u001b[0;34m(self, name)\u001b[0m\n\u001b[1;32m   5460\u001b[0m             \u001b[0;32mif\u001b[0m \u001b[0mself\u001b[0m\u001b[0;34m.\u001b[0m\u001b[0m_info_axis\u001b[0m\u001b[0;34m.\u001b[0m\u001b[0m_can_hold_identifiers_and_holds_name\u001b[0m\u001b[0;34m(\u001b[0m\u001b[0mname\u001b[0m\u001b[0;34m)\u001b[0m\u001b[0;34m:\u001b[0m\u001b[0;34m\u001b[0m\u001b[0;34m\u001b[0m\u001b[0m\n\u001b[1;32m   5461\u001b[0m                 \u001b[0;32mreturn\u001b[0m \u001b[0mself\u001b[0m\u001b[0;34m[\u001b[0m\u001b[0mname\u001b[0m\u001b[0;34m]\u001b[0m\u001b[0;34m\u001b[0m\u001b[0;34m\u001b[0m\u001b[0m\n\u001b[0;32m-> 5462\u001b[0;31m             \u001b[0;32mreturn\u001b[0m \u001b[0mobject\u001b[0m\u001b[0;34m.\u001b[0m\u001b[0m__getattribute__\u001b[0m\u001b[0;34m(\u001b[0m\u001b[0mself\u001b[0m\u001b[0;34m,\u001b[0m \u001b[0mname\u001b[0m\u001b[0;34m)\u001b[0m\u001b[0;34m\u001b[0m\u001b[0;34m\u001b[0m\u001b[0m\n\u001b[0m\u001b[1;32m   5463\u001b[0m \u001b[0;34m\u001b[0m\u001b[0m\n\u001b[1;32m   5464\u001b[0m     \u001b[0;32mdef\u001b[0m \u001b[0m__setattr__\u001b[0m\u001b[0;34m(\u001b[0m\u001b[0mself\u001b[0m\u001b[0;34m,\u001b[0m \u001b[0mname\u001b[0m\u001b[0;34m:\u001b[0m \u001b[0mstr\u001b[0m\u001b[0;34m,\u001b[0m \u001b[0mvalue\u001b[0m\u001b[0;34m)\u001b[0m \u001b[0;34m->\u001b[0m \u001b[0;32mNone\u001b[0m\u001b[0;34m:\u001b[0m\u001b[0;34m\u001b[0m\u001b[0;34m\u001b[0m\u001b[0m\n",
      "\u001b[0;31mAttributeError\u001b[0m: 'Series' object has no attribute 'lower'"
     ]
    }
   ],
   "source": [
    "datas.song = datas.song.apply(datas.song.lower)"
   ]
  },
  {
   "cell_type": "code",
   "execution_count": 15,
   "id": "respective-squad",
   "metadata": {},
   "outputs": [],
   "source": [
    "song = \"q_track=\"+datas.song[0].lower()"
   ]
  },
  {
   "cell_type": "code",
   "execution_count": 21,
   "id": "expected-gothic",
   "metadata": {},
   "outputs": [],
   "source": [
    "artist = \"&q_artist=\"+datas.artist[0].lower()"
   ]
  },
  {
   "cell_type": "code",
   "execution_count": 22,
   "id": "insured-checkout",
   "metadata": {},
   "outputs": [],
   "source": [
    "urlroot = \"https://api.musixmatch.com/ws/1.1/matcher.lyrics.get?format=json&callback=callback&\""
   ]
  },
  {
   "cell_type": "code",
   "execution_count": 23,
   "id": "acceptable-binary",
   "metadata": {},
   "outputs": [],
   "source": [
    "aut = f\"&apikey={apikey}\""
   ]
  },
  {
   "cell_type": "code",
   "execution_count": 24,
   "id": "decimal-creek",
   "metadata": {},
   "outputs": [],
   "source": [
    "calling = urlroot+song+artist+aut"
   ]
  },
  {
   "cell_type": "code",
   "execution_count": 25,
   "id": "based-burner",
   "metadata": {},
   "outputs": [],
   "source": [
    "response = requests.get(calling)"
   ]
  },
  {
   "cell_type": "code",
   "execution_count": null,
   "id": "supposed-drawing",
   "metadata": {
    "scrolled": true
   },
   "outputs": [],
   "source": [
    "response"
   ]
  },
  {
   "cell_type": "code",
   "execution_count": null,
   "id": "toxic-factor",
   "metadata": {},
   "outputs": [],
   "source": [
    "type(response.content)"
   ]
  },
  {
   "cell_type": "code",
   "execution_count": 26,
   "id": "another-remedy",
   "metadata": {},
   "outputs": [],
   "source": [
    "res = response.json()"
   ]
  },
  {
   "cell_type": "code",
   "execution_count": null,
   "id": "incorporated-jacob",
   "metadata": {},
   "outputs": [],
   "source": [
    "type(res)"
   ]
  },
  {
   "cell_type": "code",
   "execution_count": 27,
   "id": "refined-steal",
   "metadata": {},
   "outputs": [],
   "source": [
    "lyrics = res[\"message\"][\"body\"][\"lyrics\"][\"lyrics_body\"]"
   ]
  },
  {
   "cell_type": "code",
   "execution_count": 28,
   "id": "dental-separate",
   "metadata": {},
   "outputs": [
    {
     "name": "stdout",
     "output_type": "stream",
     "text": [
      "Ja, ¡Rochy!\n",
      "Myke Towers\n",
      "Nicky Nicole\n",
      "Este e' el remix oficial\n",
      "Ey, cómo e' que dice\n",
      "\n",
      "Ella no e' tuya, te vendió sueño, ey (Suelte eso, compañero, llévese de mí)\n",
      "Dice que no tiene dueño\n",
      "Y cuando está contigo, eso e' lo más bello, ah (Un \"uy\", que un \"uy, mamá\")\n",
      "Lo mismo que hace con ello' (Una, una, una novela)\n",
      "\n",
      "Y ella no e' tuya, te vendió sueño', woh (¿Va' a seguir?)\n",
      "Dicе que no tiene duеño\n",
      "Y cuando está contigo, eso e' lo más bello, woh (Suélteme con eso, vaya de ahí con eso, compañero)\n",
      "Lo mismo que hace con ello' (Ah)\n",
      "\n",
      "Nunca piense' ni que e' tuya porque ella e' parte del juego\n",
      "Esto e' un come y vete, mi amor, nos vemo' luego\n",
      "Yo en mujere' no confío, a ninguna le ruego\n",
      "Te está haciendo lucir mal, manito; yo que tú, ruedo\n",
      "\n",
      "Compa, yo sé que a vece' uno pila te monta\n",
      "Pero con lo que tú le suelta', no le da pa' irse de compra'\n",
      "Ella busca a alguien que la auspicie\n",
      "A mí no hay cuero que me asfixie\n",
      "En el fondo, no son como en la superficie\n",
      "\n",
      "Te advertí que si la iba' a postear, que no la tagueara'\n",
      "Yo tenía sospecha', pero no sabía que era tan mala\n",
      "Ahora tiene mejor amiga nueva, una tal Tamara\n",
      "Cuando ignoran tus llamada', se ríen a carcajada'\n",
      "\n",
      "Ey, métele si quiere', pero no lo haga' público\n",
      "Cabrón, ¿tú cree' que tú va' a ser el único?\n",
      "¿Qué e' lo que tú quiere', que en la esquina a ti te digan \"el vena'o\"?\n",
      "Hasta en carro de otro' hombre' te ha frena'o, yai (Ah)\n",
      "\n",
      "...\n",
      "\n",
      "******* This Lyrics is NOT for Commercial use *******\n"
     ]
    }
   ],
   "source": [
    "print(lyrics)"
   ]
  },
  {
   "cell_type": "code",
   "execution_count": 20,
   "id": "baking-worst",
   "metadata": {},
   "outputs": [
    {
     "ename": "AttributeError",
     "evalue": "'Series' object has no attribute 'lower'",
     "output_type": "error",
     "traceback": [
      "\u001b[0;31m---------------------------------------------------------------------------\u001b[0m",
      "\u001b[0;31mAttributeError\u001b[0m                            Traceback (most recent call last)",
      "\u001b[0;32m<ipython-input-20-b7a77683addf>\u001b[0m in \u001b[0;36m<module>\u001b[0;34m\u001b[0m\n\u001b[0;32m----> 1\u001b[0;31m \u001b[0mdatas\u001b[0m\u001b[0;34m[\u001b[0m\u001b[0;34m\"artist\"\u001b[0m\u001b[0;34m]\u001b[0m\u001b[0;34m.\u001b[0m\u001b[0mapply\u001b[0m\u001b[0;34m(\u001b[0m\u001b[0;32mlambda\u001b[0m \u001b[0martist\u001b[0m\u001b[0;34m:\u001b[0m\u001b[0;34m\"&q_track=\"\u001b[0m\u001b[0;34m+\u001b[0m\u001b[0mdatas\u001b[0m\u001b[0;34m.\u001b[0m\u001b[0martist\u001b[0m\u001b[0;34m.\u001b[0m\u001b[0mlower\u001b[0m\u001b[0;34m(\u001b[0m\u001b[0;34m)\u001b[0m\u001b[0;34m)\u001b[0m\u001b[0;34m\u001b[0m\u001b[0;34m\u001b[0m\u001b[0m\n\u001b[0m",
      "\u001b[0;32m/usr/local/Caskroom/miniconda/base/envs/ironhack/lib/python3.8/site-packages/pandas/core/series.py\u001b[0m in \u001b[0;36mapply\u001b[0;34m(self, func, convert_dtype, args, **kwds)\u001b[0m\n\u001b[1;32m   4106\u001b[0m             \u001b[0;32melse\u001b[0m\u001b[0;34m:\u001b[0m\u001b[0;34m\u001b[0m\u001b[0;34m\u001b[0m\u001b[0m\n\u001b[1;32m   4107\u001b[0m                 \u001b[0mvalues\u001b[0m \u001b[0;34m=\u001b[0m \u001b[0mself\u001b[0m\u001b[0;34m.\u001b[0m\u001b[0mastype\u001b[0m\u001b[0;34m(\u001b[0m\u001b[0mobject\u001b[0m\u001b[0;34m)\u001b[0m\u001b[0;34m.\u001b[0m\u001b[0m_values\u001b[0m\u001b[0;34m\u001b[0m\u001b[0;34m\u001b[0m\u001b[0m\n\u001b[0;32m-> 4108\u001b[0;31m                 \u001b[0mmapped\u001b[0m \u001b[0;34m=\u001b[0m \u001b[0mlib\u001b[0m\u001b[0;34m.\u001b[0m\u001b[0mmap_infer\u001b[0m\u001b[0;34m(\u001b[0m\u001b[0mvalues\u001b[0m\u001b[0;34m,\u001b[0m \u001b[0mf\u001b[0m\u001b[0;34m,\u001b[0m \u001b[0mconvert\u001b[0m\u001b[0;34m=\u001b[0m\u001b[0mconvert_dtype\u001b[0m\u001b[0;34m)\u001b[0m\u001b[0;34m\u001b[0m\u001b[0;34m\u001b[0m\u001b[0m\n\u001b[0m\u001b[1;32m   4109\u001b[0m \u001b[0;34m\u001b[0m\u001b[0m\n\u001b[1;32m   4110\u001b[0m         \u001b[0;32mif\u001b[0m \u001b[0mlen\u001b[0m\u001b[0;34m(\u001b[0m\u001b[0mmapped\u001b[0m\u001b[0;34m)\u001b[0m \u001b[0;32mand\u001b[0m \u001b[0misinstance\u001b[0m\u001b[0;34m(\u001b[0m\u001b[0mmapped\u001b[0m\u001b[0;34m[\u001b[0m\u001b[0;36m0\u001b[0m\u001b[0;34m]\u001b[0m\u001b[0;34m,\u001b[0m \u001b[0mSeries\u001b[0m\u001b[0;34m)\u001b[0m\u001b[0;34m:\u001b[0m\u001b[0;34m\u001b[0m\u001b[0;34m\u001b[0m\u001b[0m\n",
      "\u001b[0;32mpandas/_libs/lib.pyx\u001b[0m in \u001b[0;36mpandas._libs.lib.map_infer\u001b[0;34m()\u001b[0m\n",
      "\u001b[0;32m<ipython-input-20-b7a77683addf>\u001b[0m in \u001b[0;36m<lambda>\u001b[0;34m(artist)\u001b[0m\n\u001b[0;32m----> 1\u001b[0;31m \u001b[0mdatas\u001b[0m\u001b[0;34m[\u001b[0m\u001b[0;34m\"artist\"\u001b[0m\u001b[0;34m]\u001b[0m\u001b[0;34m.\u001b[0m\u001b[0mapply\u001b[0m\u001b[0;34m(\u001b[0m\u001b[0;32mlambda\u001b[0m \u001b[0martist\u001b[0m\u001b[0;34m:\u001b[0m\u001b[0;34m\"&q_track=\"\u001b[0m\u001b[0;34m+\u001b[0m\u001b[0mdatas\u001b[0m\u001b[0;34m.\u001b[0m\u001b[0martist\u001b[0m\u001b[0;34m.\u001b[0m\u001b[0mlower\u001b[0m\u001b[0;34m(\u001b[0m\u001b[0;34m)\u001b[0m\u001b[0;34m)\u001b[0m\u001b[0;34m\u001b[0m\u001b[0;34m\u001b[0m\u001b[0m\n\u001b[0m",
      "\u001b[0;32m/usr/local/Caskroom/miniconda/base/envs/ironhack/lib/python3.8/site-packages/pandas/core/generic.py\u001b[0m in \u001b[0;36m__getattr__\u001b[0;34m(self, name)\u001b[0m\n\u001b[1;32m   5460\u001b[0m             \u001b[0;32mif\u001b[0m \u001b[0mself\u001b[0m\u001b[0;34m.\u001b[0m\u001b[0m_info_axis\u001b[0m\u001b[0;34m.\u001b[0m\u001b[0m_can_hold_identifiers_and_holds_name\u001b[0m\u001b[0;34m(\u001b[0m\u001b[0mname\u001b[0m\u001b[0;34m)\u001b[0m\u001b[0;34m:\u001b[0m\u001b[0;34m\u001b[0m\u001b[0;34m\u001b[0m\u001b[0m\n\u001b[1;32m   5461\u001b[0m                 \u001b[0;32mreturn\u001b[0m \u001b[0mself\u001b[0m\u001b[0;34m[\u001b[0m\u001b[0mname\u001b[0m\u001b[0;34m]\u001b[0m\u001b[0;34m\u001b[0m\u001b[0;34m\u001b[0m\u001b[0m\n\u001b[0;32m-> 5462\u001b[0;31m             \u001b[0;32mreturn\u001b[0m \u001b[0mobject\u001b[0m\u001b[0;34m.\u001b[0m\u001b[0m__getattribute__\u001b[0m\u001b[0;34m(\u001b[0m\u001b[0mself\u001b[0m\u001b[0;34m,\u001b[0m \u001b[0mname\u001b[0m\u001b[0;34m)\u001b[0m\u001b[0;34m\u001b[0m\u001b[0;34m\u001b[0m\u001b[0m\n\u001b[0m\u001b[1;32m   5463\u001b[0m \u001b[0;34m\u001b[0m\u001b[0m\n\u001b[1;32m   5464\u001b[0m     \u001b[0;32mdef\u001b[0m \u001b[0m__setattr__\u001b[0m\u001b[0;34m(\u001b[0m\u001b[0mself\u001b[0m\u001b[0;34m,\u001b[0m \u001b[0mname\u001b[0m\u001b[0;34m:\u001b[0m \u001b[0mstr\u001b[0m\u001b[0;34m,\u001b[0m \u001b[0mvalue\u001b[0m\u001b[0;34m)\u001b[0m \u001b[0;34m->\u001b[0m \u001b[0;32mNone\u001b[0m\u001b[0;34m:\u001b[0m\u001b[0;34m\u001b[0m\u001b[0;34m\u001b[0m\u001b[0m\n",
      "\u001b[0;31mAttributeError\u001b[0m: 'Series' object has no attribute 'lower'"
     ]
    }
   ],
   "source": [
    "datas[\"artist\"].apply(lambda artist:\"&q_track=\"+datas.artist.lower())"
   ]
  },
  {
   "cell_type": "code",
   "execution_count": null,
   "id": "unavailable-nowhere",
   "metadata": {},
   "outputs": [],
   "source": []
  },
  {
   "cell_type": "code",
   "execution_count": null,
   "id": "frozen-miracle",
   "metadata": {},
   "outputs": [],
   "source": []
  },
  {
   "cell_type": "code",
   "execution_count": null,
   "id": "interstate-correction",
   "metadata": {},
   "outputs": [],
   "source": []
  },
  {
   "cell_type": "code",
   "execution_count": null,
   "id": "clear-bridal",
   "metadata": {},
   "outputs": [],
   "source": []
  },
  {
   "cell_type": "code",
   "execution_count": null,
   "id": "marked-recipe",
   "metadata": {},
   "outputs": [],
   "source": [
    "datas[\"hit\"] = datas.song+\",\"+datas.artist"
   ]
  },
  {
   "cell_type": "code",
   "execution_count": null,
   "id": "breeding-entrepreneur",
   "metadata": {},
   "outputs": [],
   "source": []
  },
  {
   "cell_type": "code",
   "execution_count": null,
   "id": "middle-investment",
   "metadata": {},
   "outputs": [],
   "source": []
  },
  {
   "cell_type": "code",
   "execution_count": null,
   "id": "sublime-brooklyn",
   "metadata": {},
   "outputs": [],
   "source": []
  },
  {
   "cell_type": "code",
   "execution_count": null,
   "id": "attended-eight",
   "metadata": {},
   "outputs": [],
   "source": []
  },
  {
   "cell_type": "code",
   "execution_count": null,
   "id": "attended-ozone",
   "metadata": {},
   "outputs": [],
   "source": []
  },
  {
   "cell_type": "markdown",
   "id": "elder-earth",
   "metadata": {},
   "source": [
    "url1= \"https://www.spotifycharts.com/regional/es/weekly/2021-02-26--2021-03-05\""
   ]
  },
  {
   "cell_type": "markdown",
   "id": "increased-nitrogen",
   "metadata": {},
   "source": [
    "url2 = \"https://www.kaggle.com/dhruvildave/billboard-the-hot-100-songs\""
   ]
  },
  {
   "cell_type": "code",
   "execution_count": null,
   "id": "ongoing-blank",
   "metadata": {},
   "outputs": [],
   "source": [
    "datas.loc[datas[\"artist\"]==\"C. Tangana\"]"
   ]
  },
  {
   "cell_type": "code",
   "execution_count": null,
   "id": "wicked-superintendent",
   "metadata": {
    "scrolled": true
   },
   "outputs": [],
   "source": [
    "datas.loc[datas[\"artist\"]==\"Camilo\"]"
   ]
  },
  {
   "cell_type": "code",
   "execution_count": null,
   "id": "dutch-bikini",
   "metadata": {
    "scrolled": true
   },
   "outputs": [],
   "source": [
    "datas.loc[datas[\"rank\"]==1]"
   ]
  },
  {
   "cell_type": "code",
   "execution_count": null,
   "id": "geographic-norway",
   "metadata": {},
   "outputs": [],
   "source": []
  },
  {
   "cell_type": "code",
   "execution_count": null,
   "id": "expressed-tuner",
   "metadata": {},
   "outputs": [],
   "source": []
  },
  {
   "cell_type": "code",
   "execution_count": null,
   "id": "superb-attribute",
   "metadata": {},
   "outputs": [],
   "source": []
  },
  {
   "cell_type": "code",
   "execution_count": null,
   "id": "lined-kernel",
   "metadata": {},
   "outputs": [],
   "source": []
  },
  {
   "cell_type": "code",
   "execution_count": null,
   "id": "faced-session",
   "metadata": {},
   "outputs": [],
   "source": []
  },
  {
   "cell_type": "code",
   "execution_count": null,
   "id": "hazardous-charity",
   "metadata": {},
   "outputs": [],
   "source": []
  },
  {
   "cell_type": "code",
   "execution_count": null,
   "id": "impossible-cargo",
   "metadata": {},
   "outputs": [],
   "source": [
    "together = [zip(datas.song, datas.artist)]\n",
    "print(together)\n",
    "for sa in together:\n",
    "    print(sa)\n",
    "    "
   ]
  },
  {
   "cell_type": "code",
   "execution_count": null,
   "id": "after-daily",
   "metadata": {},
   "outputs": [],
   "source": []
  },
  {
   "cell_type": "markdown",
   "id": "choice-vacation",
   "metadata": {},
   "source": [
    "def cool():\n",
    "    url = input(\"Please type a url: \")\n",
    "    user = url.split('/')[-2]\n",
    "    dataset = url.split('/')[-1]\n",
    "    print(user)\n",
    "    print(dataset)\n",
    "    \n",
    "    to_download = f\"kaggle datasets download -d {user}/{dataset}\"\n",
    "    to_decompress = f\"tar -xzvf {dataset}.zip\"\n",
    "    to_delete = f\"rm -rf {dataset}.zip\"\n",
    "    make_dir = \"mkdir data_inputs\"\n",
    "    \n",
    "    for i in [to_download, to_decompress, to_delete, make_dir]:\n",
    "        os.system(i)\n",
    "    \n",
    "    os.system(\"mv *.csv ./data_inputs\")\n",
    "    \n",
    "    winner = os.system(\"say -v Monica 'downloading'\")\n",
    "    folder_opening = os.system(\"open .\")\n",
    "    \n",
    "    return folder_opening\n",
    "    "
   ]
  }
 ],
 "metadata": {
  "kernelspec": {
   "display_name": "Python 3",
   "language": "python",
   "name": "python3"
  },
  "language_info": {
   "codemirror_mode": {
    "name": "ipython",
    "version": 3
   },
   "file_extension": ".py",
   "mimetype": "text/x-python",
   "name": "python",
   "nbconvert_exporter": "python",
   "pygments_lexer": "ipython3",
   "version": "3.8.5"
  },
  "toc": {
   "base_numbering": 1,
   "nav_menu": {},
   "number_sections": true,
   "sideBar": true,
   "skip_h1_title": false,
   "title_cell": "Table of Contents",
   "title_sidebar": "Contents",
   "toc_cell": false,
   "toc_position": {},
   "toc_section_display": true,
   "toc_window_display": false
  },
  "varInspector": {
   "cols": {
    "lenName": 16,
    "lenType": 16,
    "lenVar": 40
   },
   "kernels_config": {
    "python": {
     "delete_cmd_postfix": "",
     "delete_cmd_prefix": "del ",
     "library": "var_list.py",
     "varRefreshCmd": "print(var_dic_list())"
    },
    "r": {
     "delete_cmd_postfix": ") ",
     "delete_cmd_prefix": "rm(",
     "library": "var_list.r",
     "varRefreshCmd": "cat(var_dic_list()) "
    }
   },
   "types_to_exclude": [
    "module",
    "function",
    "builtin_function_or_method",
    "instance",
    "_Feature"
   ],
   "window_display": false
  }
 },
 "nbformat": 4,
 "nbformat_minor": 5
}
